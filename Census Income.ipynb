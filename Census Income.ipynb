{
 "cells": [
  {
   "cell_type": "code",
   "execution_count": 1,
   "id": "16428bad",
   "metadata": {},
   "outputs": [],
   "source": [
    "import pandas as pd\n",
    "import numpy as np\n",
    "import seaborn as sns\n",
    "import matplotlib.pyplot as plt\n",
    "import warnings\n",
    "warnings.filterwarnings('ignore')"
   ]
  },
  {
   "cell_type": "code",
   "execution_count": 2,
   "id": "684ccb7b",
   "metadata": {},
   "outputs": [
    {
     "data": {
      "text/html": [
       "<div>\n",
       "<style scoped>\n",
       "    .dataframe tbody tr th:only-of-type {\n",
       "        vertical-align: middle;\n",
       "    }\n",
       "\n",
       "    .dataframe tbody tr th {\n",
       "        vertical-align: top;\n",
       "    }\n",
       "\n",
       "    .dataframe thead th {\n",
       "        text-align: right;\n",
       "    }\n",
       "</style>\n",
       "<table border=\"1\" class=\"dataframe\">\n",
       "  <thead>\n",
       "    <tr style=\"text-align: right;\">\n",
       "      <th></th>\n",
       "      <th>Age</th>\n",
       "      <th>Workclass</th>\n",
       "      <th>Fnlwgt</th>\n",
       "      <th>Education</th>\n",
       "      <th>Education_num</th>\n",
       "      <th>Marital_status</th>\n",
       "      <th>Occupation</th>\n",
       "      <th>Relationship</th>\n",
       "      <th>Race</th>\n",
       "      <th>Sex</th>\n",
       "      <th>Capital_gain</th>\n",
       "      <th>Capital_loss</th>\n",
       "      <th>Hours_per_week</th>\n",
       "      <th>Native_country</th>\n",
       "      <th>Income</th>\n",
       "    </tr>\n",
       "  </thead>\n",
       "  <tbody>\n",
       "    <tr>\n",
       "      <th>0</th>\n",
       "      <td>50</td>\n",
       "      <td>Self-emp-not-inc</td>\n",
       "      <td>83311</td>\n",
       "      <td>Bachelors</td>\n",
       "      <td>13</td>\n",
       "      <td>Married-civ-spouse</td>\n",
       "      <td>Exec-managerial</td>\n",
       "      <td>Husband</td>\n",
       "      <td>White</td>\n",
       "      <td>Male</td>\n",
       "      <td>0</td>\n",
       "      <td>0</td>\n",
       "      <td>13</td>\n",
       "      <td>United-States</td>\n",
       "      <td>&lt;=50K</td>\n",
       "    </tr>\n",
       "    <tr>\n",
       "      <th>1</th>\n",
       "      <td>38</td>\n",
       "      <td>Private</td>\n",
       "      <td>215646</td>\n",
       "      <td>HS-grad</td>\n",
       "      <td>9</td>\n",
       "      <td>Divorced</td>\n",
       "      <td>Handlers-cleaners</td>\n",
       "      <td>Not-in-family</td>\n",
       "      <td>White</td>\n",
       "      <td>Male</td>\n",
       "      <td>0</td>\n",
       "      <td>0</td>\n",
       "      <td>40</td>\n",
       "      <td>United-States</td>\n",
       "      <td>&lt;=50K</td>\n",
       "    </tr>\n",
       "    <tr>\n",
       "      <th>2</th>\n",
       "      <td>53</td>\n",
       "      <td>Private</td>\n",
       "      <td>234721</td>\n",
       "      <td>11th</td>\n",
       "      <td>7</td>\n",
       "      <td>Married-civ-spouse</td>\n",
       "      <td>Handlers-cleaners</td>\n",
       "      <td>Husband</td>\n",
       "      <td>Black</td>\n",
       "      <td>Male</td>\n",
       "      <td>0</td>\n",
       "      <td>0</td>\n",
       "      <td>40</td>\n",
       "      <td>United-States</td>\n",
       "      <td>&lt;=50K</td>\n",
       "    </tr>\n",
       "    <tr>\n",
       "      <th>3</th>\n",
       "      <td>28</td>\n",
       "      <td>Private</td>\n",
       "      <td>338409</td>\n",
       "      <td>Bachelors</td>\n",
       "      <td>13</td>\n",
       "      <td>Married-civ-spouse</td>\n",
       "      <td>Prof-specialty</td>\n",
       "      <td>Wife</td>\n",
       "      <td>Black</td>\n",
       "      <td>Female</td>\n",
       "      <td>0</td>\n",
       "      <td>0</td>\n",
       "      <td>40</td>\n",
       "      <td>Cuba</td>\n",
       "      <td>&lt;=50K</td>\n",
       "    </tr>\n",
       "    <tr>\n",
       "      <th>4</th>\n",
       "      <td>37</td>\n",
       "      <td>Private</td>\n",
       "      <td>284582</td>\n",
       "      <td>Masters</td>\n",
       "      <td>14</td>\n",
       "      <td>Married-civ-spouse</td>\n",
       "      <td>Exec-managerial</td>\n",
       "      <td>Wife</td>\n",
       "      <td>White</td>\n",
       "      <td>Female</td>\n",
       "      <td>0</td>\n",
       "      <td>0</td>\n",
       "      <td>40</td>\n",
       "      <td>United-States</td>\n",
       "      <td>&lt;=50K</td>\n",
       "    </tr>\n",
       "    <tr>\n",
       "      <th>...</th>\n",
       "      <td>...</td>\n",
       "      <td>...</td>\n",
       "      <td>...</td>\n",
       "      <td>...</td>\n",
       "      <td>...</td>\n",
       "      <td>...</td>\n",
       "      <td>...</td>\n",
       "      <td>...</td>\n",
       "      <td>...</td>\n",
       "      <td>...</td>\n",
       "      <td>...</td>\n",
       "      <td>...</td>\n",
       "      <td>...</td>\n",
       "      <td>...</td>\n",
       "      <td>...</td>\n",
       "    </tr>\n",
       "    <tr>\n",
       "      <th>32555</th>\n",
       "      <td>27</td>\n",
       "      <td>Private</td>\n",
       "      <td>257302</td>\n",
       "      <td>Assoc-acdm</td>\n",
       "      <td>12</td>\n",
       "      <td>Married-civ-spouse</td>\n",
       "      <td>Tech-support</td>\n",
       "      <td>Wife</td>\n",
       "      <td>White</td>\n",
       "      <td>Female</td>\n",
       "      <td>0</td>\n",
       "      <td>0</td>\n",
       "      <td>38</td>\n",
       "      <td>United-States</td>\n",
       "      <td>&lt;=50K</td>\n",
       "    </tr>\n",
       "    <tr>\n",
       "      <th>32556</th>\n",
       "      <td>40</td>\n",
       "      <td>Private</td>\n",
       "      <td>154374</td>\n",
       "      <td>HS-grad</td>\n",
       "      <td>9</td>\n",
       "      <td>Married-civ-spouse</td>\n",
       "      <td>Machine-op-inspct</td>\n",
       "      <td>Husband</td>\n",
       "      <td>White</td>\n",
       "      <td>Male</td>\n",
       "      <td>0</td>\n",
       "      <td>0</td>\n",
       "      <td>40</td>\n",
       "      <td>United-States</td>\n",
       "      <td>&gt;50K</td>\n",
       "    </tr>\n",
       "    <tr>\n",
       "      <th>32557</th>\n",
       "      <td>58</td>\n",
       "      <td>Private</td>\n",
       "      <td>151910</td>\n",
       "      <td>HS-grad</td>\n",
       "      <td>9</td>\n",
       "      <td>Widowed</td>\n",
       "      <td>Adm-clerical</td>\n",
       "      <td>Unmarried</td>\n",
       "      <td>White</td>\n",
       "      <td>Female</td>\n",
       "      <td>0</td>\n",
       "      <td>0</td>\n",
       "      <td>40</td>\n",
       "      <td>United-States</td>\n",
       "      <td>&lt;=50K</td>\n",
       "    </tr>\n",
       "    <tr>\n",
       "      <th>32558</th>\n",
       "      <td>22</td>\n",
       "      <td>Private</td>\n",
       "      <td>201490</td>\n",
       "      <td>HS-grad</td>\n",
       "      <td>9</td>\n",
       "      <td>Never-married</td>\n",
       "      <td>Adm-clerical</td>\n",
       "      <td>Own-child</td>\n",
       "      <td>White</td>\n",
       "      <td>Male</td>\n",
       "      <td>0</td>\n",
       "      <td>0</td>\n",
       "      <td>20</td>\n",
       "      <td>United-States</td>\n",
       "      <td>&lt;=50K</td>\n",
       "    </tr>\n",
       "    <tr>\n",
       "      <th>32559</th>\n",
       "      <td>52</td>\n",
       "      <td>Self-emp-inc</td>\n",
       "      <td>287927</td>\n",
       "      <td>HS-grad</td>\n",
       "      <td>9</td>\n",
       "      <td>Married-civ-spouse</td>\n",
       "      <td>Exec-managerial</td>\n",
       "      <td>Wife</td>\n",
       "      <td>White</td>\n",
       "      <td>Female</td>\n",
       "      <td>15024</td>\n",
       "      <td>0</td>\n",
       "      <td>40</td>\n",
       "      <td>United-States</td>\n",
       "      <td>&gt;50K</td>\n",
       "    </tr>\n",
       "  </tbody>\n",
       "</table>\n",
       "<p>32560 rows × 15 columns</p>\n",
       "</div>"
      ],
      "text/plain": [
       "       Age          Workclass  Fnlwgt    Education  Education_num  \\\n",
       "0       50   Self-emp-not-inc   83311    Bachelors             13   \n",
       "1       38            Private  215646      HS-grad              9   \n",
       "2       53            Private  234721         11th              7   \n",
       "3       28            Private  338409    Bachelors             13   \n",
       "4       37            Private  284582      Masters             14   \n",
       "...    ...                ...     ...          ...            ...   \n",
       "32555   27            Private  257302   Assoc-acdm             12   \n",
       "32556   40            Private  154374      HS-grad              9   \n",
       "32557   58            Private  151910      HS-grad              9   \n",
       "32558   22            Private  201490      HS-grad              9   \n",
       "32559   52       Self-emp-inc  287927      HS-grad              9   \n",
       "\n",
       "            Marital_status          Occupation    Relationship    Race  \\\n",
       "0       Married-civ-spouse     Exec-managerial         Husband   White   \n",
       "1                 Divorced   Handlers-cleaners   Not-in-family   White   \n",
       "2       Married-civ-spouse   Handlers-cleaners         Husband   Black   \n",
       "3       Married-civ-spouse      Prof-specialty            Wife   Black   \n",
       "4       Married-civ-spouse     Exec-managerial            Wife   White   \n",
       "...                    ...                 ...             ...     ...   \n",
       "32555   Married-civ-spouse        Tech-support            Wife   White   \n",
       "32556   Married-civ-spouse   Machine-op-inspct         Husband   White   \n",
       "32557              Widowed        Adm-clerical       Unmarried   White   \n",
       "32558        Never-married        Adm-clerical       Own-child   White   \n",
       "32559   Married-civ-spouse     Exec-managerial            Wife   White   \n",
       "\n",
       "           Sex  Capital_gain  Capital_loss  Hours_per_week  Native_country  \\\n",
       "0         Male             0             0              13   United-States   \n",
       "1         Male             0             0              40   United-States   \n",
       "2         Male             0             0              40   United-States   \n",
       "3       Female             0             0              40            Cuba   \n",
       "4       Female             0             0              40   United-States   \n",
       "...        ...           ...           ...             ...             ...   \n",
       "32555   Female             0             0              38   United-States   \n",
       "32556     Male             0             0              40   United-States   \n",
       "32557   Female             0             0              40   United-States   \n",
       "32558     Male             0             0              20   United-States   \n",
       "32559   Female         15024             0              40   United-States   \n",
       "\n",
       "       Income  \n",
       "0       <=50K  \n",
       "1       <=50K  \n",
       "2       <=50K  \n",
       "3       <=50K  \n",
       "4       <=50K  \n",
       "...       ...  \n",
       "32555   <=50K  \n",
       "32556    >50K  \n",
       "32557   <=50K  \n",
       "32558   <=50K  \n",
       "32559    >50K  \n",
       "\n",
       "[32560 rows x 15 columns]"
      ]
     },
     "execution_count": 2,
     "metadata": {},
     "output_type": "execute_result"
    }
   ],
   "source": [
    "df=pd.read_csv(\"census_income.csv\")\n",
    "df"
   ]
  },
  {
   "cell_type": "code",
   "execution_count": 3,
   "id": "5cd2a9ec",
   "metadata": {},
   "outputs": [
    {
     "data": {
      "text/html": [
       "<div>\n",
       "<style scoped>\n",
       "    .dataframe tbody tr th:only-of-type {\n",
       "        vertical-align: middle;\n",
       "    }\n",
       "\n",
       "    .dataframe tbody tr th {\n",
       "        vertical-align: top;\n",
       "    }\n",
       "\n",
       "    .dataframe thead th {\n",
       "        text-align: right;\n",
       "    }\n",
       "</style>\n",
       "<table border=\"1\" class=\"dataframe\">\n",
       "  <thead>\n",
       "    <tr style=\"text-align: right;\">\n",
       "      <th></th>\n",
       "      <th>Age</th>\n",
       "      <th>Workclass</th>\n",
       "      <th>Fnlwgt</th>\n",
       "      <th>Education</th>\n",
       "      <th>Education_num</th>\n",
       "      <th>Marital_status</th>\n",
       "      <th>Occupation</th>\n",
       "      <th>Relationship</th>\n",
       "      <th>Race</th>\n",
       "      <th>Sex</th>\n",
       "      <th>Capital_gain</th>\n",
       "      <th>Capital_loss</th>\n",
       "      <th>Hours_per_week</th>\n",
       "      <th>Native_country</th>\n",
       "      <th>Income</th>\n",
       "    </tr>\n",
       "  </thead>\n",
       "  <tbody>\n",
       "    <tr>\n",
       "      <th>0</th>\n",
       "      <td>50</td>\n",
       "      <td>Self-emp-not-inc</td>\n",
       "      <td>83311</td>\n",
       "      <td>Bachelors</td>\n",
       "      <td>13</td>\n",
       "      <td>Married-civ-spouse</td>\n",
       "      <td>Exec-managerial</td>\n",
       "      <td>Husband</td>\n",
       "      <td>White</td>\n",
       "      <td>Male</td>\n",
       "      <td>0</td>\n",
       "      <td>0</td>\n",
       "      <td>13</td>\n",
       "      <td>United-States</td>\n",
       "      <td>&lt;=50K</td>\n",
       "    </tr>\n",
       "    <tr>\n",
       "      <th>1</th>\n",
       "      <td>38</td>\n",
       "      <td>Private</td>\n",
       "      <td>215646</td>\n",
       "      <td>HS-grad</td>\n",
       "      <td>9</td>\n",
       "      <td>Divorced</td>\n",
       "      <td>Handlers-cleaners</td>\n",
       "      <td>Not-in-family</td>\n",
       "      <td>White</td>\n",
       "      <td>Male</td>\n",
       "      <td>0</td>\n",
       "      <td>0</td>\n",
       "      <td>40</td>\n",
       "      <td>United-States</td>\n",
       "      <td>&lt;=50K</td>\n",
       "    </tr>\n",
       "    <tr>\n",
       "      <th>2</th>\n",
       "      <td>53</td>\n",
       "      <td>Private</td>\n",
       "      <td>234721</td>\n",
       "      <td>11th</td>\n",
       "      <td>7</td>\n",
       "      <td>Married-civ-spouse</td>\n",
       "      <td>Handlers-cleaners</td>\n",
       "      <td>Husband</td>\n",
       "      <td>Black</td>\n",
       "      <td>Male</td>\n",
       "      <td>0</td>\n",
       "      <td>0</td>\n",
       "      <td>40</td>\n",
       "      <td>United-States</td>\n",
       "      <td>&lt;=50K</td>\n",
       "    </tr>\n",
       "    <tr>\n",
       "      <th>3</th>\n",
       "      <td>28</td>\n",
       "      <td>Private</td>\n",
       "      <td>338409</td>\n",
       "      <td>Bachelors</td>\n",
       "      <td>13</td>\n",
       "      <td>Married-civ-spouse</td>\n",
       "      <td>Prof-specialty</td>\n",
       "      <td>Wife</td>\n",
       "      <td>Black</td>\n",
       "      <td>Female</td>\n",
       "      <td>0</td>\n",
       "      <td>0</td>\n",
       "      <td>40</td>\n",
       "      <td>Cuba</td>\n",
       "      <td>&lt;=50K</td>\n",
       "    </tr>\n",
       "    <tr>\n",
       "      <th>4</th>\n",
       "      <td>37</td>\n",
       "      <td>Private</td>\n",
       "      <td>284582</td>\n",
       "      <td>Masters</td>\n",
       "      <td>14</td>\n",
       "      <td>Married-civ-spouse</td>\n",
       "      <td>Exec-managerial</td>\n",
       "      <td>Wife</td>\n",
       "      <td>White</td>\n",
       "      <td>Female</td>\n",
       "      <td>0</td>\n",
       "      <td>0</td>\n",
       "      <td>40</td>\n",
       "      <td>United-States</td>\n",
       "      <td>&lt;=50K</td>\n",
       "    </tr>\n",
       "  </tbody>\n",
       "</table>\n",
       "</div>"
      ],
      "text/plain": [
       "   Age          Workclass  Fnlwgt   Education  Education_num  \\\n",
       "0   50   Self-emp-not-inc   83311   Bachelors             13   \n",
       "1   38            Private  215646     HS-grad              9   \n",
       "2   53            Private  234721        11th              7   \n",
       "3   28            Private  338409   Bachelors             13   \n",
       "4   37            Private  284582     Masters             14   \n",
       "\n",
       "        Marital_status          Occupation    Relationship    Race      Sex  \\\n",
       "0   Married-civ-spouse     Exec-managerial         Husband   White     Male   \n",
       "1             Divorced   Handlers-cleaners   Not-in-family   White     Male   \n",
       "2   Married-civ-spouse   Handlers-cleaners         Husband   Black     Male   \n",
       "3   Married-civ-spouse      Prof-specialty            Wife   Black   Female   \n",
       "4   Married-civ-spouse     Exec-managerial            Wife   White   Female   \n",
       "\n",
       "   Capital_gain  Capital_loss  Hours_per_week  Native_country  Income  \n",
       "0             0             0              13   United-States   <=50K  \n",
       "1             0             0              40   United-States   <=50K  \n",
       "2             0             0              40   United-States   <=50K  \n",
       "3             0             0              40            Cuba   <=50K  \n",
       "4             0             0              40   United-States   <=50K  "
      ]
     },
     "execution_count": 3,
     "metadata": {},
     "output_type": "execute_result"
    }
   ],
   "source": [
    "df.head()"
   ]
  },
  {
   "cell_type": "code",
   "execution_count": 4,
   "id": "f8798880",
   "metadata": {},
   "outputs": [
    {
     "data": {
      "text/html": [
       "<div>\n",
       "<style scoped>\n",
       "    .dataframe tbody tr th:only-of-type {\n",
       "        vertical-align: middle;\n",
       "    }\n",
       "\n",
       "    .dataframe tbody tr th {\n",
       "        vertical-align: top;\n",
       "    }\n",
       "\n",
       "    .dataframe thead th {\n",
       "        text-align: right;\n",
       "    }\n",
       "</style>\n",
       "<table border=\"1\" class=\"dataframe\">\n",
       "  <thead>\n",
       "    <tr style=\"text-align: right;\">\n",
       "      <th></th>\n",
       "      <th>Age</th>\n",
       "      <th>Workclass</th>\n",
       "      <th>Fnlwgt</th>\n",
       "      <th>Education</th>\n",
       "      <th>Education_num</th>\n",
       "      <th>Marital_status</th>\n",
       "      <th>Occupation</th>\n",
       "      <th>Relationship</th>\n",
       "      <th>Race</th>\n",
       "      <th>Sex</th>\n",
       "      <th>Capital_gain</th>\n",
       "      <th>Capital_loss</th>\n",
       "      <th>Hours_per_week</th>\n",
       "      <th>Native_country</th>\n",
       "      <th>Income</th>\n",
       "    </tr>\n",
       "  </thead>\n",
       "  <tbody>\n",
       "    <tr>\n",
       "      <th>32555</th>\n",
       "      <td>27</td>\n",
       "      <td>Private</td>\n",
       "      <td>257302</td>\n",
       "      <td>Assoc-acdm</td>\n",
       "      <td>12</td>\n",
       "      <td>Married-civ-spouse</td>\n",
       "      <td>Tech-support</td>\n",
       "      <td>Wife</td>\n",
       "      <td>White</td>\n",
       "      <td>Female</td>\n",
       "      <td>0</td>\n",
       "      <td>0</td>\n",
       "      <td>38</td>\n",
       "      <td>United-States</td>\n",
       "      <td>&lt;=50K</td>\n",
       "    </tr>\n",
       "    <tr>\n",
       "      <th>32556</th>\n",
       "      <td>40</td>\n",
       "      <td>Private</td>\n",
       "      <td>154374</td>\n",
       "      <td>HS-grad</td>\n",
       "      <td>9</td>\n",
       "      <td>Married-civ-spouse</td>\n",
       "      <td>Machine-op-inspct</td>\n",
       "      <td>Husband</td>\n",
       "      <td>White</td>\n",
       "      <td>Male</td>\n",
       "      <td>0</td>\n",
       "      <td>0</td>\n",
       "      <td>40</td>\n",
       "      <td>United-States</td>\n",
       "      <td>&gt;50K</td>\n",
       "    </tr>\n",
       "    <tr>\n",
       "      <th>32557</th>\n",
       "      <td>58</td>\n",
       "      <td>Private</td>\n",
       "      <td>151910</td>\n",
       "      <td>HS-grad</td>\n",
       "      <td>9</td>\n",
       "      <td>Widowed</td>\n",
       "      <td>Adm-clerical</td>\n",
       "      <td>Unmarried</td>\n",
       "      <td>White</td>\n",
       "      <td>Female</td>\n",
       "      <td>0</td>\n",
       "      <td>0</td>\n",
       "      <td>40</td>\n",
       "      <td>United-States</td>\n",
       "      <td>&lt;=50K</td>\n",
       "    </tr>\n",
       "    <tr>\n",
       "      <th>32558</th>\n",
       "      <td>22</td>\n",
       "      <td>Private</td>\n",
       "      <td>201490</td>\n",
       "      <td>HS-grad</td>\n",
       "      <td>9</td>\n",
       "      <td>Never-married</td>\n",
       "      <td>Adm-clerical</td>\n",
       "      <td>Own-child</td>\n",
       "      <td>White</td>\n",
       "      <td>Male</td>\n",
       "      <td>0</td>\n",
       "      <td>0</td>\n",
       "      <td>20</td>\n",
       "      <td>United-States</td>\n",
       "      <td>&lt;=50K</td>\n",
       "    </tr>\n",
       "    <tr>\n",
       "      <th>32559</th>\n",
       "      <td>52</td>\n",
       "      <td>Self-emp-inc</td>\n",
       "      <td>287927</td>\n",
       "      <td>HS-grad</td>\n",
       "      <td>9</td>\n",
       "      <td>Married-civ-spouse</td>\n",
       "      <td>Exec-managerial</td>\n",
       "      <td>Wife</td>\n",
       "      <td>White</td>\n",
       "      <td>Female</td>\n",
       "      <td>15024</td>\n",
       "      <td>0</td>\n",
       "      <td>40</td>\n",
       "      <td>United-States</td>\n",
       "      <td>&gt;50K</td>\n",
       "    </tr>\n",
       "  </tbody>\n",
       "</table>\n",
       "</div>"
      ],
      "text/plain": [
       "       Age      Workclass  Fnlwgt    Education  Education_num  \\\n",
       "32555   27        Private  257302   Assoc-acdm             12   \n",
       "32556   40        Private  154374      HS-grad              9   \n",
       "32557   58        Private  151910      HS-grad              9   \n",
       "32558   22        Private  201490      HS-grad              9   \n",
       "32559   52   Self-emp-inc  287927      HS-grad              9   \n",
       "\n",
       "            Marital_status          Occupation Relationship    Race      Sex  \\\n",
       "32555   Married-civ-spouse        Tech-support         Wife   White   Female   \n",
       "32556   Married-civ-spouse   Machine-op-inspct      Husband   White     Male   \n",
       "32557              Widowed        Adm-clerical    Unmarried   White   Female   \n",
       "32558        Never-married        Adm-clerical    Own-child   White     Male   \n",
       "32559   Married-civ-spouse     Exec-managerial         Wife   White   Female   \n",
       "\n",
       "       Capital_gain  Capital_loss  Hours_per_week  Native_country  Income  \n",
       "32555             0             0              38   United-States   <=50K  \n",
       "32556             0             0              40   United-States    >50K  \n",
       "32557             0             0              40   United-States   <=50K  \n",
       "32558             0             0              20   United-States   <=50K  \n",
       "32559         15024             0              40   United-States    >50K  "
      ]
     },
     "execution_count": 4,
     "metadata": {},
     "output_type": "execute_result"
    }
   ],
   "source": [
    "df.tail()"
   ]
  },
  {
   "cell_type": "code",
   "execution_count": 5,
   "id": "918f0486",
   "metadata": {},
   "outputs": [
    {
     "data": {
      "text/plain": [
       "['Age',\n",
       " 'Workclass',\n",
       " 'Fnlwgt',\n",
       " 'Education',\n",
       " 'Education_num',\n",
       " 'Marital_status',\n",
       " 'Occupation',\n",
       " 'Relationship',\n",
       " 'Race',\n",
       " 'Sex',\n",
       " 'Capital_gain',\n",
       " 'Capital_loss',\n",
       " 'Hours_per_week',\n",
       " 'Native_country',\n",
       " 'Income']"
      ]
     },
     "execution_count": 5,
     "metadata": {},
     "output_type": "execute_result"
    }
   ],
   "source": [
    "df.columns.to_list()"
   ]
  },
  {
   "cell_type": "code",
   "execution_count": 6,
   "id": "87ab145a",
   "metadata": {},
   "outputs": [
    {
     "data": {
      "text/plain": [
       "(32560, 15)"
      ]
     },
     "execution_count": 6,
     "metadata": {},
     "output_type": "execute_result"
    }
   ],
   "source": [
    "df.shape  #dimension of data"
   ]
  },
  {
   "cell_type": "code",
   "execution_count": 7,
   "id": "fc8fc339",
   "metadata": {},
   "outputs": [
    {
     "data": {
      "text/plain": [
       "Age                int64\n",
       "Workclass         object\n",
       "Fnlwgt             int64\n",
       "Education         object\n",
       "Education_num      int64\n",
       "Marital_status    object\n",
       "Occupation        object\n",
       "Relationship      object\n",
       "Race              object\n",
       "Sex               object\n",
       "Capital_gain       int64\n",
       "Capital_loss       int64\n",
       "Hours_per_week     int64\n",
       "Native_country    object\n",
       "Income            object\n",
       "dtype: object"
      ]
     },
     "execution_count": 7,
     "metadata": {},
     "output_type": "execute_result"
    }
   ],
   "source": [
    "df.dtypes  #data type of each column"
   ]
  },
  {
   "cell_type": "code",
   "execution_count": 8,
   "id": "91e778c3",
   "metadata": {},
   "outputs": [
    {
     "data": {
      "text/plain": [
       "Age                  73\n",
       "Workclass             9\n",
       "Fnlwgt            21647\n",
       "Education            16\n",
       "Education_num        16\n",
       "Marital_status        7\n",
       "Occupation           15\n",
       "Relationship          6\n",
       "Race                  5\n",
       "Sex                   2\n",
       "Capital_gain        119\n",
       "Capital_loss         92\n",
       "Hours_per_week       94\n",
       "Native_country       42\n",
       "Income                2\n",
       "dtype: int64"
      ]
     },
     "execution_count": 8,
     "metadata": {},
     "output_type": "execute_result"
    }
   ],
   "source": [
    "df.nunique()  #Number of unique values in each column"
   ]
  },
  {
   "cell_type": "code",
   "execution_count": 9,
   "id": "b76e51eb",
   "metadata": {},
   "outputs": [
    {
     "name": "stdout",
     "output_type": "stream",
     "text": [
      "<class 'pandas.core.frame.DataFrame'>\n",
      "RangeIndex: 32560 entries, 0 to 32559\n",
      "Data columns (total 15 columns):\n",
      " #   Column          Non-Null Count  Dtype \n",
      "---  ------          --------------  ----- \n",
      " 0   Age             32560 non-null  int64 \n",
      " 1   Workclass       32560 non-null  object\n",
      " 2   Fnlwgt          32560 non-null  int64 \n",
      " 3   Education       32560 non-null  object\n",
      " 4   Education_num   32560 non-null  int64 \n",
      " 5   Marital_status  32560 non-null  object\n",
      " 6   Occupation      32560 non-null  object\n",
      " 7   Relationship    32560 non-null  object\n",
      " 8   Race            32560 non-null  object\n",
      " 9   Sex             32560 non-null  object\n",
      " 10  Capital_gain    32560 non-null  int64 \n",
      " 11  Capital_loss    32560 non-null  int64 \n",
      " 12  Hours_per_week  32560 non-null  int64 \n",
      " 13  Native_country  32560 non-null  object\n",
      " 14  Income          32560 non-null  object\n",
      "dtypes: int64(6), object(9)\n",
      "memory usage: 3.7+ MB\n"
     ]
    }
   ],
   "source": [
    "df.info()"
   ]
  },
  {
   "cell_type": "code",
   "execution_count": 10,
   "id": "17d451bd",
   "metadata": {},
   "outputs": [
    {
     "data": {
      "text/plain": [
       "Age               0\n",
       "Workclass         0\n",
       "Fnlwgt            0\n",
       "Education         0\n",
       "Education_num     0\n",
       "Marital_status    0\n",
       "Occupation        0\n",
       "Relationship      0\n",
       "Race              0\n",
       "Sex               0\n",
       "Capital_gain      0\n",
       "Capital_loss      0\n",
       "Hours_per_week    0\n",
       "Native_country    0\n",
       "Income            0\n",
       "dtype: int64"
      ]
     },
     "execution_count": 10,
     "metadata": {},
     "output_type": "execute_result"
    }
   ],
   "source": [
    "df.isnull().sum()"
   ]
  },
  {
   "cell_type": "code",
   "execution_count": 11,
   "id": "2e542522",
   "metadata": {},
   "outputs": [
    {
     "data": {
      "text/plain": [
       "<AxesSubplot:>"
      ]
     },
     "execution_count": 11,
     "metadata": {},
     "output_type": "execute_result"
    },
    {
     "data": {
      "image/png": "[encoded data removed]",
      "text/plain": [
       "<Figure size 432x288 with 2 Axes>"
      ]
     },
     "metadata": {
      "needs_background": "light"
     },
     "output_type": "display_data"
    }
   ],
   "source": [
    "#Plotting it on a heatmap\n",
    "\n",
    "sns.heatmap(df.isnull())   #Single coloured heatmap as no null values are present"
   ]
  },
  {
   "cell_type": "code",
   "execution_count": 12,
   "id": "66459211",
   "metadata": {},
   "outputs": [
    {
     "name": "stdout",
     "output_type": "stream",
     "text": [
      "36    898\n",
      "31    888\n",
      "34    886\n",
      "23    877\n",
      "35    876\n",
      "     ... \n",
      "83      6\n",
      "88      3\n",
      "85      3\n",
      "86      1\n",
      "87      1\n",
      "Name: Age, Length: 73, dtype: int64\n",
      "\n",
      "\n",
      " Private             22696\n",
      " Self-emp-not-inc     2541\n",
      " Local-gov            2093\n",
      " ?                    1836\n",
      " State-gov            1297\n",
      " Self-emp-inc         1116\n",
      " Federal-gov           960\n",
      " Without-pay            14\n",
      " Never-worked            7\n",
      "Name: Workclass, dtype: int64\n",
      "\n",
      "\n",
      "164190    13\n",
      "203488    13\n",
      "123011    13\n",
      "148995    12\n",
      "126675    12\n",
      "          ..\n",
      "325573     1\n",
      "140176     1\n",
      "318264     1\n",
      "329205     1\n",
      "257302     1\n",
      "Name: Fnlwgt, Length: 21647, dtype: int64\n",
      "\n",
      "\n",
      " HS-grad         10501\n",
      " Some-college     7291\n",
      " Bachelors        5354\n",
      " Masters          1723\n",
      " Assoc-voc        1382\n",
      " 11th             1175\n",
      " Assoc-acdm       1067\n",
      " 10th              933\n",
      " 7th-8th           646\n",
      " Prof-school       576\n",
      " 9th               514\n",
      " 12th              433\n",
      " Doctorate         413\n",
      " 5th-6th           333\n",
      " 1st-4th           168\n",
      " Preschool          51\n",
      "Name: Education, dtype: int64\n",
      "\n",
      "\n",
      "9     10501\n",
      "10     7291\n",
      "13     5354\n",
      "14     1723\n",
      "11     1382\n",
      "7      1175\n",
      "12     1067\n",
      "6       933\n",
      "4       646\n",
      "15      576\n",
      "5       514\n",
      "8       433\n",
      "16      413\n",
      "3       333\n",
      "2       168\n",
      "1        51\n",
      "Name: Education_num, dtype: int64\n",
      "\n",
      "\n",
      " Married-civ-spouse       14976\n",
      " Never-married            10682\n",
      " Divorced                  4443\n",
      " Separated                 1025\n",
      " Widowed                    993\n",
      " Married-spouse-absent      418\n",
      " Married-AF-spouse           23\n",
      "Name: Marital_status, dtype: int64\n",
      "\n",
      "\n",
      " Prof-specialty       4140\n",
      " Craft-repair         4099\n",
      " Exec-managerial      4066\n",
      " Adm-clerical         3769\n",
      " Sales                3650\n",
      " Other-service        3295\n",
      " Machine-op-inspct    2002\n",
      " ?                    1843\n",
      " Transport-moving     1597\n",
      " Handlers-cleaners    1370\n",
      " Farming-fishing       994\n",
      " Tech-support          928\n",
      " Protective-serv       649\n",
      " Priv-house-serv       149\n",
      " Armed-Forces            9\n",
      "Name: Occupation, dtype: int64\n",
      "\n",
      "\n",
      " Husband           13193\n",
      " Not-in-family      8304\n",
      " Own-child          5068\n",
      " Unmarried          3446\n",
      " Wife               1568\n",
      " Other-relative      981\n",
      "Name: Relationship, dtype: int64\n",
      "\n",
      "\n",
      " White                 27815\n",
      " Black                  3124\n",
      " Asian-Pac-Islander     1039\n",
      " Amer-Indian-Eskimo      311\n",
      " Other                   271\n",
      "Name: Race, dtype: int64\n",
      "\n",
      "\n",
      " Male      21789\n",
      " Female    10771\n",
      "Name: Sex, dtype: int64\n",
      "\n",
      "\n",
      "0        29849\n",
      "15024      347\n",
      "7688       284\n",
      "7298       246\n",
      "99999      159\n",
      "         ...  \n",
      "1111         1\n",
      "2538         1\n",
      "22040        1\n",
      "4931         1\n",
      "5060         1\n",
      "Name: Capital_gain, Length: 119, dtype: int64\n",
      "\n",
      "\n",
      "0       31041\n",
      "1902      202\n",
      "1977      168\n",
      "1887      159\n",
      "1848       51\n",
      "        ...  \n",
      "2080        1\n",
      "1539        1\n",
      "1844        1\n",
      "2489        1\n",
      "1411        1\n",
      "Name: Capital_loss, Length: 92, dtype: int64\n",
      "\n",
      "\n",
      "40    15216\n",
      "50     2819\n",
      "45     1824\n",
      "60     1475\n",
      "35     1297\n",
      "      ...  \n",
      "82        1\n",
      "94        1\n",
      "92        1\n",
      "74        1\n",
      "87        1\n",
      "Name: Hours_per_week, Length: 94, dtype: int64\n",
      "\n",
      "\n",
      " United-States                 29169\n",
      " Mexico                          643\n",
      " ?                               583\n",
      " Philippines                     198\n",
      " Germany                         137\n",
      " Canada                          121\n",
      " Puerto-Rico                     114\n",
      " El-Salvador                     106\n",
      " India                           100\n",
      " Cuba                             95\n",
      " England                          90\n",
      " Jamaica                          81\n",
      " South                            80\n",
      " China                            75\n",
      " Italy                            73\n",
      " Dominican-Republic               70\n",
      " Vietnam                          67\n",
      " Guatemala                        64\n",
      " Japan                            62\n",
      " Poland                           60\n",
      " Columbia                         59\n",
      " Taiwan                           51\n",
      " Haiti                            44\n",
      " Iran                             43\n",
      " Portugal                         37\n",
      " Nicaragua                        34\n",
      " Peru                             31\n",
      " France                           29\n",
      " Greece                           29\n",
      " Ecuador                          28\n",
      " Ireland                          24\n",
      " Hong                             20\n",
      " Cambodia                         19\n",
      " Trinadad&Tobago                  19\n",
      " Laos                             18\n",
      " Thailand                         18\n",
      " Yugoslavia                       16\n",
      " Outlying-US(Guam-USVI-etc)       14\n",
      " Honduras                         13\n",
      " Hungary                          13\n",
      " Scotland                         12\n",
      " Holand-Netherlands                1\n",
      "Name: Native_country, dtype: int64\n",
      "\n",
      "\n",
      " <=50K    24719\n",
      " >50K      7841\n",
      "Name: Income, dtype: int64\n",
      "\n",
      "\n"
     ]
    }
   ],
   "source": [
    "#Checking the value counts in each column\n",
    "\n",
    "for i in df.columns:\n",
    "    print(df[i].value_counts())\n",
    "    print('\\n')"
   ]
  },
  {
   "cell_type": "code",
   "execution_count": 13,
   "id": "d135369d",
   "metadata": {},
   "outputs": [
    {
     "data": {
      "text/html": [
       "<div>\n",
       "<style scoped>\n",
       "    .dataframe tbody tr th:only-of-type {\n",
       "        vertical-align: middle;\n",
       "    }\n",
       "\n",
       "    .dataframe tbody tr th {\n",
       "        vertical-align: top;\n",
       "    }\n",
       "\n",
       "    .dataframe thead th {\n",
       "        text-align: right;\n",
       "    }\n",
       "</style>\n",
       "<table border=\"1\" class=\"dataframe\">\n",
       "  <thead>\n",
       "    <tr style=\"text-align: right;\">\n",
       "      <th></th>\n",
       "      <th>Number of unique values</th>\n",
       "    </tr>\n",
       "  </thead>\n",
       "  <tbody>\n",
       "    <tr>\n",
       "      <th>Age</th>\n",
       "      <td>73</td>\n",
       "    </tr>\n",
       "    <tr>\n",
       "      <th>Workclass</th>\n",
       "      <td>9</td>\n",
       "    </tr>\n",
       "    <tr>\n",
       "      <th>Fnlwgt</th>\n",
       "      <td>21647</td>\n",
       "    </tr>\n",
       "    <tr>\n",
       "      <th>Education</th>\n",
       "      <td>16</td>\n",
       "    </tr>\n",
       "    <tr>\n",
       "      <th>Education_num</th>\n",
       "      <td>16</td>\n",
       "    </tr>\n",
       "    <tr>\n",
       "      <th>Marital_status</th>\n",
       "      <td>7</td>\n",
       "    </tr>\n",
       "    <tr>\n",
       "      <th>Occupation</th>\n",
       "      <td>15</td>\n",
       "    </tr>\n",
       "    <tr>\n",
       "      <th>Relationship</th>\n",
       "      <td>6</td>\n",
       "    </tr>\n",
       "    <tr>\n",
       "      <th>Race</th>\n",
       "      <td>5</td>\n",
       "    </tr>\n",
       "    <tr>\n",
       "      <th>Sex</th>\n",
       "      <td>2</td>\n",
       "    </tr>\n",
       "    <tr>\n",
       "      <th>Capital_gain</th>\n",
       "      <td>119</td>\n",
       "    </tr>\n",
       "    <tr>\n",
       "      <th>Capital_loss</th>\n",
       "      <td>92</td>\n",
       "    </tr>\n",
       "    <tr>\n",
       "      <th>Hours_per_week</th>\n",
       "      <td>94</td>\n",
       "    </tr>\n",
       "    <tr>\n",
       "      <th>Native_country</th>\n",
       "      <td>42</td>\n",
       "    </tr>\n",
       "    <tr>\n",
       "      <th>Income</th>\n",
       "      <td>2</td>\n",
       "    </tr>\n",
       "  </tbody>\n",
       "</table>\n",
       "</div>"
      ],
      "text/plain": [
       "                Number of unique values\n",
       "Age                                  73\n",
       "Workclass                             9\n",
       "Fnlwgt                            21647\n",
       "Education                            16\n",
       "Education_num                        16\n",
       "Marital_status                        7\n",
       "Occupation                           15\n",
       "Relationship                          6\n",
       "Race                                  5\n",
       "Sex                                   2\n",
       "Capital_gain                        119\n",
       "Capital_loss                         92\n",
       "Hours_per_week                       94\n",
       "Native_country                       42\n",
       "Income                                2"
      ]
     },
     "execution_count": 13,
     "metadata": {},
     "output_type": "execute_result"
    }
   ],
   "source": [
    "df.nunique().to_frame(\"Number of unique values\")"
   ]
  },
  {
   "cell_type": "code",
   "execution_count": 14,
   "id": "a6ee1d25",
   "metadata": {},
   "outputs": [],
   "source": [
    "df=df.drop('Capital_gain',axis=1)\n",
    "df=df.drop('Capital_loss',axis=1)"
   ]
  },
  {
   "cell_type": "code",
   "execution_count": 15,
   "id": "9bb05441",
   "metadata": {},
   "outputs": [],
   "source": [
    "#as capital gain and capital loss have no roll in identifying income"
   ]
  },
  {
   "cell_type": "markdown",
   "id": "0112a1de",
   "metadata": {},
   "source": [
    "### Data Visualization"
   ]
  },
  {
   "cell_type": "code",
   "execution_count": 16,
   "id": "87723e24",
   "metadata": {},
   "outputs": [
    {
     "name": "stdout",
     "output_type": "stream",
     "text": [
      " <=50K    24719\n",
      " >50K      7841\n",
      "Name: Income, dtype: int64\n"
     ]
    },
    {
     "data": {
      "image/png": "[encoded data removed]",
      "text/plain": [
       "<Figure size 432x288 with 1 Axes>"
      ]
     },
     "metadata": {
      "needs_background": "light"
     },
     "output_type": "display_data"
    }
   ],
   "source": [
    "#Univariate Analysis\n",
    "datamap=sns.countplot(df['Income'],data=df)\n",
    "print(df['Income'].value_counts())"
   ]
  },
  {
   "cell_type": "code",
   "execution_count": 17,
   "id": "5e89aba4",
   "metadata": {},
   "outputs": [],
   "source": [
    "#There are ore people having income greater than 50K"
   ]
  },
  {
   "cell_type": "code",
   "execution_count": 18,
   "id": "d6245b68",
   "metadata": {},
   "outputs": [
    {
     "name": "stdout",
     "output_type": "stream",
     "text": [
      " Male      21789\n",
      " Female    10771\n",
      "Name: Sex, dtype: int64\n"
     ]
    },
    {
     "data": {
      "image/png": "[encoded data removed]",
      "text/plain": [
       "<Figure size 432x288 with 1 Axes>"
      ]
     },
     "metadata": {
      "needs_background": "light"
     },
     "output_type": "display_data"
    }
   ],
   "source": [
    "datamap=sns.countplot(df['Sex'],data=df)\n",
    "print(df['Sex'].value_counts())"
   ]
  },
  {
   "cell_type": "code",
   "execution_count": 19,
   "id": "9ef24b24",
   "metadata": {},
   "outputs": [],
   "source": [
    "# no of male are more than the number of females"
   ]
  },
  {
   "cell_type": "code",
   "execution_count": 20,
   "id": "82ee186c",
   "metadata": {},
   "outputs": [
    {
     "name": "stdout",
     "output_type": "stream",
     "text": [
      " White                 27815\n",
      " Black                  3124\n",
      " Asian-Pac-Islander     1039\n",
      " Amer-Indian-Eskimo      311\n",
      " Other                   271\n",
      "Name: Race, dtype: int64\n"
     ]
    },
    {
     "data": {
      "image/png": "[encoded data removed]",
      "text/plain": [
       "<Figure size 720x432 with 1 Axes>"
      ]
     },
     "metadata": {
      "needs_background": "light"
     },
     "output_type": "display_data"
    }
   ],
   "source": [
    "plt.figure(figsize=(10, 6))\n",
    "datamap=sns.countplot(df['Race'],data=df)\n",
    "print(df['Race'].value_counts())"
   ]
  },
  {
   "cell_type": "code",
   "execution_count": 21,
   "id": "f2774bde",
   "metadata": {},
   "outputs": [],
   "source": [
    "# we can observe that the population of white people are most"
   ]
  },
  {
   "cell_type": "code",
   "execution_count": 22,
   "id": "2941b1ba",
   "metadata": {},
   "outputs": [
    {
     "name": "stdout",
     "output_type": "stream",
     "text": [
      " Husband           13193\n",
      " Not-in-family      8304\n",
      " Own-child          5068\n",
      " Unmarried          3446\n",
      " Wife               1568\n",
      " Other-relative      981\n",
      "Name: Relationship, dtype: int64\n"
     ]
    },
    {
     "data": {
      "image/png": "[encoded data removed]",
      "text/plain": [
       "<Figure size 720x432 with 1 Axes>"
      ]
     },
     "metadata": {
      "needs_background": "light"
     },
     "output_type": "display_data"
    }
   ],
   "source": [
    "plt.figure(figsize=(10, 6))\n",
    "datamap=sns.countplot(df['Relationship'],data=df)\n",
    "print(df['Relationship'].value_counts())"
   ]
  },
  {
   "cell_type": "code",
   "execution_count": 23,
   "id": "66f91fb6",
   "metadata": {},
   "outputs": [
    {
     "name": "stdout",
     "output_type": "stream",
     "text": [
      " Married-civ-spouse       14976\n",
      " Never-married            10682\n",
      " Divorced                  4443\n",
      " Separated                 1025\n",
      " Widowed                    993\n",
      " Married-spouse-absent      418\n",
      " Married-AF-spouse           23\n",
      "Name: Marital_status, dtype: int64\n"
     ]
    },
    {
     "data": {
      "image/png": "[encoded data removed]",
      "text/plain": [
       "<Figure size 720x432 with 1 Axes>"
      ]
     },
     "metadata": {
      "needs_background": "light"
     },
     "output_type": "display_data"
    }
   ],
   "source": [
    "plt.figure(figsize=(10, 6))\n",
    "datamap=sns.countplot(df['Marital_status'],data=df)\n",
    "print(df['Marital_status'].value_counts())"
   ]
  },
  {
   "cell_type": "code",
   "execution_count": 24,
   "id": "2fb4d192",
   "metadata": {},
   "outputs": [
    {
     "name": "stdout",
     "output_type": "stream",
     "text": [
      " Private             22696\n",
      " Self-emp-not-inc     2541\n",
      " Local-gov            2093\n",
      " ?                    1836\n",
      " State-gov            1297\n",
      " Self-emp-inc         1116\n",
      " Federal-gov           960\n",
      " Without-pay            14\n",
      " Never-worked            7\n",
      "Name: Workclass, dtype: int64\n"
     ]
    },
    {
     "data": {
      "image/png": "[encoded data removed]",
      "text/plain": [
       "<Figure size 720x432 with 1 Axes>"
      ]
     },
     "metadata": {
      "needs_background": "light"
     },
     "output_type": "display_data"
    }
   ],
   "source": [
    "plt.figure(figsize=(10, 6))\n",
    "datamap=sns.countplot(df['Workclass'],data=df)\n",
    "print(df['Workclass'].value_counts())"
   ]
  },
  {
   "cell_type": "code",
   "execution_count": 25,
   "id": "84356190",
   "metadata": {},
   "outputs": [],
   "source": [
    "# We can observe that the no of private workers are more compare to any other"
   ]
  },
  {
   "cell_type": "code",
   "execution_count": 26,
   "id": "526c49e8",
   "metadata": {},
   "outputs": [
    {
     "name": "stdout",
     "output_type": "stream",
     "text": [
      " HS-grad         10501\n",
      " Some-college     7291\n",
      " Bachelors        5354\n",
      " Masters          1723\n",
      " Assoc-voc        1382\n",
      " 11th             1175\n",
      " Assoc-acdm       1067\n",
      " 10th              933\n",
      " 7th-8th           646\n",
      " Prof-school       576\n",
      " 9th               514\n",
      " 12th              433\n",
      " Doctorate         413\n",
      " 5th-6th           333\n",
      " 1st-4th           168\n",
      " Preschool          51\n",
      "Name: Education, dtype: int64\n"
     ]
    },
    {
     "data": {
      "image/png": "[encoded data removed]",
      "text/plain": [
       "<Figure size 1080x1080 with 1 Axes>"
      ]
     },
     "metadata": {
      "needs_background": "light"
     },
     "output_type": "display_data"
    }
   ],
   "source": [
    "plt.figure(figsize=(15, 15))\n",
    "datamap=sns.countplot(df['Education'],data=df)\n",
    "print(df['Education'].value_counts())"
   ]
  },
  {
   "cell_type": "code",
   "execution_count": 27,
   "id": "0c608bca",
   "metadata": {},
   "outputs": [],
   "source": [
    "# we can observe that mostly people are HS-Graduate followed by some college"
   ]
  },
  {
   "cell_type": "code",
   "execution_count": 28,
   "id": "83b5788d",
   "metadata": {},
   "outputs": [
    {
     "data": {
      "text/plain": [
       "<seaborn.axisgrid.FacetGrid at 0x20187dc89d0>"
      ]
     },
     "execution_count": 28,
     "metadata": {},
     "output_type": "execute_result"
    },
    {
     "data": {
      "image/png": "[encoded data removed]",
      "text/plain": [
       "<Figure size 720x360 with 2 Axes>"
      ]
     },
     "metadata": {
      "needs_background": "light"
     },
     "output_type": "display_data"
    }
   ],
   "source": [
    "# Bivarient analysis\n",
    "\n",
    "# Comparing Income on the base of sex\n",
    "sns.catplot(x='Sex',col='Income',data=df,kind='count',palette='spring_r')"
   ]
  },
  {
   "cell_type": "code",
   "execution_count": 29,
   "id": "80616fc1",
   "metadata": {},
   "outputs": [],
   "source": [
    "# we can observe that there are more male with income more than 50K"
   ]
  },
  {
   "cell_type": "code",
   "execution_count": 30,
   "id": "9aaff9d5",
   "metadata": {},
   "outputs": [
    {
     "data": {
      "text/plain": [
       "<seaborn.axisgrid.FacetGrid at 0x20187e296a0>"
      ]
     },
     "execution_count": 30,
     "metadata": {},
     "output_type": "execute_result"
    },
    {
     "data": {
      "text/plain": [
       "<Figure size 720x432 with 0 Axes>"
      ]
     },
     "metadata": {},
     "output_type": "display_data"
    },
    {
     "data": {
      "image/png": "[encoded data removed]",
      "text/plain": [
       "<Figure size 1296x288 with 9 Axes>"
      ]
     },
     "metadata": {
      "needs_background": "light"
     },
     "output_type": "display_data"
    }
   ],
   "source": [
    "# Comparing Income on the base of Workclass\n",
    "plt.figure(figsize=(10, 6))\n",
    "sns.catplot(x='Income', col='Workclass', data=df, kind='count', palette='spring_r',height=4, aspect=0.5)"
   ]
  },
  {
   "cell_type": "code",
   "execution_count": 31,
   "id": "a4070b60",
   "metadata": {},
   "outputs": [],
   "source": [
    "# we can observe that people working in private sector have mo no of people having 50K plus income"
   ]
  },
  {
   "cell_type": "code",
   "execution_count": 32,
   "id": "94baffa6",
   "metadata": {},
   "outputs": [
    {
     "data": {
      "text/plain": [
       "<seaborn.axisgrid.FacetGrid at 0x20187ec0bb0>"
      ]
     },
     "execution_count": 32,
     "metadata": {},
     "output_type": "execute_result"
    },
    {
     "data": {
      "image/png": "[encoded data removed]",
      "text/plain": [
       "<Figure size 720x288 with 5 Axes>"
      ]
     },
     "metadata": {
      "needs_background": "light"
     },
     "output_type": "display_data"
    }
   ],
   "source": [
    "# Comparing Income on the base of race\n",
    "sns.catplot(x='Income',col='Race',data=df,kind='count',palette='spring_r',height=4, aspect=0.5)"
   ]
  },
  {
   "cell_type": "code",
   "execution_count": 33,
   "id": "d0822dcd",
   "metadata": {},
   "outputs": [],
   "source": [
    "#We can observe that there is a huge difference of no of people having more than 50K on income in white , balck , asia pecific race"
   ]
  },
  {
   "cell_type": "code",
   "execution_count": 34,
   "id": "6628dd37",
   "metadata": {},
   "outputs": [
    {
     "data": {
      "text/plain": [
       "<seaborn.axisgrid.FacetGrid at 0x2018acaaf40>"
      ]
     },
     "execution_count": 34,
     "metadata": {},
     "output_type": "execute_result"
    },
    {
     "data": {
      "image/png": "[encoded data removed]",
      "text/plain": [
       "<Figure size 864x288 with 6 Axes>"
      ]
     },
     "metadata": {
      "needs_background": "light"
     },
     "output_type": "display_data"
    }
   ],
   "source": [
    "# Comparing Income on the base of Relationship\n",
    "sns.catplot(x='Income',col='Relationship',data=df,kind='count',palette='spring_r',height=4, aspect=0.5)"
   ]
  },
  {
   "cell_type": "code",
   "execution_count": 35,
   "id": "2b54817a",
   "metadata": {},
   "outputs": [],
   "source": [
    "# we can observe that people having more than 50K of income are on higher side in all the relation exceplt wife where it seems to be equal"
   ]
  },
  {
   "cell_type": "code",
   "execution_count": 36,
   "id": "e0191347",
   "metadata": {},
   "outputs": [
    {
     "data": {
      "text/plain": [
       "<seaborn.axisgrid.FacetGrid at 0x20187c5e940>"
      ]
     },
     "execution_count": 36,
     "metadata": {},
     "output_type": "execute_result"
    },
    {
     "data": {
      "image/png": "[encoded data removed]",
      "text/plain": [
       "<Figure size 1036.8x288 with 9 Axes>"
      ]
     },
     "metadata": {
      "needs_background": "light"
     },
     "output_type": "display_data"
    }
   ],
   "source": [
    "# Comparing Income on the base of Workclass\n",
    "sns.catplot(x='Income',col='Workclass',data=df,kind='count',palette='spring_r',height=4, aspect=0.4)"
   ]
  },
  {
   "cell_type": "code",
   "execution_count": 37,
   "id": "93195cfa",
   "metadata": {},
   "outputs": [],
   "source": [
    "# In all the working class we can see that 50K plus people are more. except without and never worked before"
   ]
  },
  {
   "cell_type": "code",
   "execution_count": 38,
   "id": "53094f20",
   "metadata": {},
   "outputs": [
    {
     "name": "stdout",
     "output_type": "stream",
     "text": [
      "Categorical columns are: ['Workclass', 'Education', 'Marital_status', 'Occupation', 'Relationship', 'Race', 'Sex', 'Native_country', 'Income']\n",
      "\n",
      "\n",
      "Numerical columns are: ['Age', 'Fnlwgt', 'Education_num', 'Hours_per_week']\n",
      "\n",
      "\n"
     ]
    }
   ],
   "source": [
    "#Seperating Numerical and categorical columns\n",
    "\n",
    "categorical=[]\n",
    "for i in df.columns:\n",
    "    if df.dtypes[i]=='object':\n",
    "        categorical.append(i)\n",
    "print(\"Categorical columns are:\",categorical)\n",
    "print('\\n')\n",
    "\n",
    "numerical=[]\n",
    "for i in df.columns:\n",
    "    if df.dtypes[i]!='object':\n",
    "        numerical.append(i)\n",
    "print(\"Numerical columns are:\",numerical)\n",
    "print(\"\\n\")"
   ]
  },
  {
   "cell_type": "markdown",
   "id": "e5db6a95",
   "metadata": {},
   "source": [
    "### Checking outliers"
   ]
  },
  {
   "cell_type": "code",
   "execution_count": 39,
   "id": "16535a36",
   "metadata": {},
   "outputs": [
    {
     "data": {
      "image/png": "[encoded data removed]",
      "text/plain": [
       "<Figure size 1800x1800 with 4 Axes>"
      ]
     },
     "metadata": {},
     "output_type": "display_data"
    }
   ],
   "source": [
    "# lets check the outliers using boxplot\n",
    "plt.figure(figsize=(25,25),facecolor='white')\n",
    "plotnumber=1\n",
    "for col in numerical:\n",
    "    if plotnumber<=36:\n",
    "        ax=plt.subplot(12,2,plotnumber)     \n",
    "        sns.boxplot(df[col],palette='bright')\n",
    "        plt.xlabel(col,fontsize=15)\n",
    "        plt.yticks(rotation=0,fontsize=10)\n",
    "    plotnumber+=1\n",
    "plt.tight_layout()"
   ]
  },
  {
   "cell_type": "code",
   "execution_count": 40,
   "id": "cb77a678",
   "metadata": {},
   "outputs": [],
   "source": [
    "# We can see that there are outliers in all the columns"
   ]
  },
  {
   "cell_type": "code",
   "execution_count": 41,
   "id": "67c961b9",
   "metadata": {},
   "outputs": [],
   "source": [
    "# Using Z square mode"
   ]
  },
  {
   "cell_type": "code",
   "execution_count": 42,
   "id": "338148d2",
   "metadata": {},
   "outputs": [
    {
     "data": {
      "text/html": [
       "<div>\n",
       "<style scoped>\n",
       "    .dataframe tbody tr th:only-of-type {\n",
       "        vertical-align: middle;\n",
       "    }\n",
       "\n",
       "    .dataframe tbody tr th {\n",
       "        vertical-align: top;\n",
       "    }\n",
       "\n",
       "    .dataframe thead th {\n",
       "        text-align: right;\n",
       "    }\n",
       "</style>\n",
       "<table border=\"1\" class=\"dataframe\">\n",
       "  <thead>\n",
       "    <tr style=\"text-align: right;\">\n",
       "      <th></th>\n",
       "      <th>Age</th>\n",
       "      <th>Fnlwgt</th>\n",
       "      <th>Education_num</th>\n",
       "      <th>Hours_per_week</th>\n",
       "    </tr>\n",
       "  </thead>\n",
       "  <tbody>\n",
       "    <tr>\n",
       "      <th>0</th>\n",
       "      <td>0.837097</td>\n",
       "      <td>1.008742</td>\n",
       "      <td>1.134779</td>\n",
       "      <td>2.222120</td>\n",
       "    </tr>\n",
       "    <tr>\n",
       "      <th>1</th>\n",
       "      <td>0.042640</td>\n",
       "      <td>0.245046</td>\n",
       "      <td>0.420027</td>\n",
       "      <td>0.035430</td>\n",
       "    </tr>\n",
       "    <tr>\n",
       "      <th>2</th>\n",
       "      <td>1.057031</td>\n",
       "      <td>0.425770</td>\n",
       "      <td>1.197429</td>\n",
       "      <td>0.035430</td>\n",
       "    </tr>\n",
       "    <tr>\n",
       "      <th>3</th>\n",
       "      <td>0.775755</td>\n",
       "      <td>1.408146</td>\n",
       "      <td>1.134779</td>\n",
       "      <td>0.035430</td>\n",
       "    </tr>\n",
       "    <tr>\n",
       "      <th>4</th>\n",
       "      <td>0.115952</td>\n",
       "      <td>0.898170</td>\n",
       "      <td>1.523480</td>\n",
       "      <td>0.035430</td>\n",
       "    </tr>\n",
       "    <tr>\n",
       "      <th>...</th>\n",
       "      <td>...</td>\n",
       "      <td>...</td>\n",
       "      <td>...</td>\n",
       "      <td>...</td>\n",
       "    </tr>\n",
       "    <tr>\n",
       "      <th>32555</th>\n",
       "      <td>0.849066</td>\n",
       "      <td>0.639710</td>\n",
       "      <td>0.746077</td>\n",
       "      <td>0.197407</td>\n",
       "    </tr>\n",
       "    <tr>\n",
       "      <th>32556</th>\n",
       "      <td>0.103982</td>\n",
       "      <td>0.335466</td>\n",
       "      <td>0.420027</td>\n",
       "      <td>0.035430</td>\n",
       "    </tr>\n",
       "    <tr>\n",
       "      <th>32557</th>\n",
       "      <td>1.423589</td>\n",
       "      <td>0.358811</td>\n",
       "      <td>0.420027</td>\n",
       "      <td>0.035430</td>\n",
       "    </tr>\n",
       "    <tr>\n",
       "      <th>32558</th>\n",
       "      <td>1.215624</td>\n",
       "      <td>0.110927</td>\n",
       "      <td>0.420027</td>\n",
       "      <td>1.655200</td>\n",
       "    </tr>\n",
       "    <tr>\n",
       "      <th>32559</th>\n",
       "      <td>0.983720</td>\n",
       "      <td>0.929862</td>\n",
       "      <td>0.420027</td>\n",
       "      <td>0.035430</td>\n",
       "    </tr>\n",
       "  </tbody>\n",
       "</table>\n",
       "<p>32560 rows × 4 columns</p>\n",
       "</div>"
      ],
      "text/plain": [
       "            Age    Fnlwgt  Education_num  Hours_per_week\n",
       "0      0.837097  1.008742       1.134779        2.222120\n",
       "1      0.042640  0.245046       0.420027        0.035430\n",
       "2      1.057031  0.425770       1.197429        0.035430\n",
       "3      0.775755  1.408146       1.134779        0.035430\n",
       "4      0.115952  0.898170       1.523480        0.035430\n",
       "...         ...       ...            ...             ...\n",
       "32555  0.849066  0.639710       0.746077        0.197407\n",
       "32556  0.103982  0.335466       0.420027        0.035430\n",
       "32557  1.423589  0.358811       0.420027        0.035430\n",
       "32558  1.215624  0.110927       0.420027        1.655200\n",
       "32559  0.983720  0.929862       0.420027        0.035430\n",
       "\n",
       "[32560 rows x 4 columns]"
      ]
     },
     "execution_count": 42,
     "metadata": {},
     "output_type": "execute_result"
    }
   ],
   "source": [
    "from scipy.stats import zscore\n",
    "out_features=df[['Age', 'Fnlwgt', 'Education_num','Hours_per_week']]\n",
    "z=np.abs(zscore(out_features))  \n",
    "z"
   ]
  },
  {
   "cell_type": "code",
   "execution_count": 43,
   "id": "566d70d9",
   "metadata": {},
   "outputs": [
    {
     "data": {
      "text/plain": [
       "(array([    9,    27,    36, ..., 32524, 32524, 32530], dtype=int64),\n",
       " array([3, 3, 1, ..., 0, 3, 3], dtype=int64))"
      ]
     },
     "execution_count": 43,
     "metadata": {},
     "output_type": "execute_result"
    }
   ],
   "source": [
    "#threshold=3\n",
    "\n",
    "np.where(z>3)"
   ]
  },
  {
   "cell_type": "code",
   "execution_count": 44,
   "id": "7a43135e",
   "metadata": {},
   "outputs": [
    {
     "data": {
      "text/plain": [
       "(31461, 13)"
      ]
     },
     "execution_count": 44,
     "metadata": {},
     "output_type": "execute_result"
    }
   ],
   "source": [
    "# now removing thedata above zscore and dreating a new DF\n",
    "df1=df[(z<3).all(axis=1)]\n",
    "df1.shape"
   ]
  },
  {
   "cell_type": "code",
   "execution_count": 45,
   "id": "897f54a2",
   "metadata": {},
   "outputs": [
    {
     "name": "stdout",
     "output_type": "stream",
     "text": [
      "Old Data Frame - 32560\n",
      "New Data Frame - 31461\n"
     ]
    }
   ],
   "source": [
    "#shape of old and new data frame\n",
    "print('Old Data Frame -',df.shape[0])\n",
    "print('New Data Frame -',df1.shape[0])"
   ]
  },
  {
   "cell_type": "code",
   "execution_count": 46,
   "id": "03d3f8e2",
   "metadata": {},
   "outputs": [],
   "source": [
    "# Now we will use IQR method\n",
    "\n",
    "\n",
    "#1st quar=ntile\n",
    "q1=out_features.quantile(0.25)\n",
    " \n",
    "\n",
    "#3rd quantile\n",
    "q3=out_features.quantile(0.75)\n",
    "\n",
    "#IQR\n",
    "IQR=q3-q1"
   ]
  },
  {
   "cell_type": "code",
   "execution_count": 47,
   "id": "bd5813bf",
   "metadata": {},
   "outputs": [],
   "source": [
    "df2=df[~((df < (q1-1.5*IQR))|(df>(q3+1.5*IQR))).any(axis=1)] "
   ]
  },
  {
   "cell_type": "code",
   "execution_count": 48,
   "id": "92358c9b",
   "metadata": {},
   "outputs": [
    {
     "data": {
      "text/plain": [
       "(21950, 13)"
      ]
     },
     "execution_count": 48,
     "metadata": {},
     "output_type": "execute_result"
    }
   ],
   "source": [
    "df2.shape"
   ]
  },
  {
   "cell_type": "code",
   "execution_count": 49,
   "id": "883eb4ee",
   "metadata": {},
   "outputs": [
    {
     "name": "stdout",
     "output_type": "stream",
     "text": [
      "Old Data Frame - 32560\n",
      "New Data Frame - 21950\n"
     ]
    }
   ],
   "source": [
    "#shape of old and new data frame\n",
    "print('Old Data Frame -',df.shape[0])\n",
    "print('New Data Frame -',df2.shape[0])"
   ]
  },
  {
   "cell_type": "code",
   "execution_count": 50,
   "id": "24234edb",
   "metadata": {},
   "outputs": [],
   "source": [
    "# We can see that Zquare is more effective as loss of data is less"
   ]
  },
  {
   "cell_type": "code",
   "execution_count": 51,
   "id": "8365fc88",
   "metadata": {},
   "outputs": [],
   "source": [
    "df=df1"
   ]
  },
  {
   "cell_type": "markdown",
   "id": "d8194a3e",
   "metadata": {},
   "source": [
    "### Checking the Skewness"
   ]
  },
  {
   "cell_type": "code",
   "execution_count": 52,
   "id": "6c2c4cbd",
   "metadata": {},
   "outputs": [
    {
     "data": {
      "text/plain": [
       "Age               0.472279\n",
       "Fnlwgt            0.634828\n",
       "Education_num    -0.159752\n",
       "Hours_per_week   -0.341724\n",
       "dtype: float64"
      ]
     },
     "execution_count": 52,
     "metadata": {},
     "output_type": "execute_result"
    }
   ],
   "source": [
    "df.skew()"
   ]
  },
  {
   "cell_type": "code",
   "execution_count": 53,
   "id": "ff8e4088",
   "metadata": {},
   "outputs": [],
   "source": [
    "# the acceptable range for skewness-:\n",
    "                    # 1)if its 0 the data is semetrical or normaly distriuted\n",
    "                    # 2) acceptable range is -0.5 to 0.5 "
   ]
  },
  {
   "cell_type": "code",
   "execution_count": 54,
   "id": "199d145b",
   "metadata": {},
   "outputs": [],
   "source": [
    "import scipy.stats as stats\n",
    "from scipy.stats import boxcox\n",
    "import math"
   ]
  },
  {
   "cell_type": "code",
   "execution_count": 55,
   "id": "46a09bcd",
   "metadata": {},
   "outputs": [],
   "source": [
    "df['Fnlwgt'],lambda_=stats.yeojohnson(df['Fnlwgt'])"
   ]
  },
  {
   "cell_type": "code",
   "execution_count": 56,
   "id": "7893a2fd",
   "metadata": {},
   "outputs": [
    {
     "data": {
      "text/plain": [
       "Age               0.472279\n",
       "Fnlwgt           -0.034507\n",
       "Education_num    -0.159752\n",
       "Hours_per_week   -0.341724\n",
       "dtype: float64"
      ]
     },
     "execution_count": 56,
     "metadata": {},
     "output_type": "execute_result"
    }
   ],
   "source": [
    "df.skew()"
   ]
  },
  {
   "cell_type": "markdown",
   "id": "370f2913",
   "metadata": {},
   "source": [
    "## Encoding Catogerical columns"
   ]
  },
  {
   "cell_type": "code",
   "execution_count": 57,
   "id": "42a9d7ce",
   "metadata": {},
   "outputs": [
    {
     "data": {
      "text/html": [
       "<div>\n",
       "<style scoped>\n",
       "    .dataframe tbody tr th:only-of-type {\n",
       "        vertical-align: middle;\n",
       "    }\n",
       "\n",
       "    .dataframe tbody tr th {\n",
       "        vertical-align: top;\n",
       "    }\n",
       "\n",
       "    .dataframe thead th {\n",
       "        text-align: right;\n",
       "    }\n",
       "</style>\n",
       "<table border=\"1\" class=\"dataframe\">\n",
       "  <thead>\n",
       "    <tr style=\"text-align: right;\">\n",
       "      <th></th>\n",
       "      <th>Age</th>\n",
       "      <th>Workclass</th>\n",
       "      <th>Fnlwgt</th>\n",
       "      <th>Education</th>\n",
       "      <th>Education_num</th>\n",
       "      <th>Marital_status</th>\n",
       "      <th>Occupation</th>\n",
       "      <th>Relationship</th>\n",
       "      <th>Race</th>\n",
       "      <th>Sex</th>\n",
       "      <th>Hours_per_week</th>\n",
       "      <th>Native_country</th>\n",
       "      <th>Income</th>\n",
       "    </tr>\n",
       "  </thead>\n",
       "  <tbody>\n",
       "    <tr>\n",
       "      <th>0</th>\n",
       "      <td>50</td>\n",
       "      <td>6.0</td>\n",
       "      <td>876.945793</td>\n",
       "      <td>8.0</td>\n",
       "      <td>13</td>\n",
       "      <td>2.0</td>\n",
       "      <td>4.0</td>\n",
       "      <td>0.0</td>\n",
       "      <td>4.0</td>\n",
       "      <td>1.0</td>\n",
       "      <td>13</td>\n",
       "      <td>39.0</td>\n",
       "      <td>0.0</td>\n",
       "    </tr>\n",
       "    <tr>\n",
       "      <th>1</th>\n",
       "      <td>38</td>\n",
       "      <td>4.0</td>\n",
       "      <td>1473.308495</td>\n",
       "      <td>10.0</td>\n",
       "      <td>9</td>\n",
       "      <td>0.0</td>\n",
       "      <td>6.0</td>\n",
       "      <td>1.0</td>\n",
       "      <td>4.0</td>\n",
       "      <td>1.0</td>\n",
       "      <td>40</td>\n",
       "      <td>39.0</td>\n",
       "      <td>0.0</td>\n",
       "    </tr>\n",
       "    <tr>\n",
       "      <th>2</th>\n",
       "      <td>53</td>\n",
       "      <td>4.0</td>\n",
       "      <td>1543.001338</td>\n",
       "      <td>1.0</td>\n",
       "      <td>7</td>\n",
       "      <td>2.0</td>\n",
       "      <td>6.0</td>\n",
       "      <td>0.0</td>\n",
       "      <td>2.0</td>\n",
       "      <td>1.0</td>\n",
       "      <td>40</td>\n",
       "      <td>39.0</td>\n",
       "      <td>0.0</td>\n",
       "    </tr>\n",
       "    <tr>\n",
       "      <th>3</th>\n",
       "      <td>28</td>\n",
       "      <td>4.0</td>\n",
       "      <td>1883.632900</td>\n",
       "      <td>8.0</td>\n",
       "      <td>13</td>\n",
       "      <td>2.0</td>\n",
       "      <td>10.0</td>\n",
       "      <td>5.0</td>\n",
       "      <td>2.0</td>\n",
       "      <td>0.0</td>\n",
       "      <td>40</td>\n",
       "      <td>5.0</td>\n",
       "      <td>0.0</td>\n",
       "    </tr>\n",
       "    <tr>\n",
       "      <th>4</th>\n",
       "      <td>37</td>\n",
       "      <td>4.0</td>\n",
       "      <td>1713.875361</td>\n",
       "      <td>11.0</td>\n",
       "      <td>14</td>\n",
       "      <td>2.0</td>\n",
       "      <td>4.0</td>\n",
       "      <td>5.0</td>\n",
       "      <td>4.0</td>\n",
       "      <td>0.0</td>\n",
       "      <td>40</td>\n",
       "      <td>39.0</td>\n",
       "      <td>0.0</td>\n",
       "    </tr>\n",
       "    <tr>\n",
       "      <th>...</th>\n",
       "      <td>...</td>\n",
       "      <td>...</td>\n",
       "      <td>...</td>\n",
       "      <td>...</td>\n",
       "      <td>...</td>\n",
       "      <td>...</td>\n",
       "      <td>...</td>\n",
       "      <td>...</td>\n",
       "      <td>...</td>\n",
       "      <td>...</td>\n",
       "      <td>...</td>\n",
       "      <td>...</td>\n",
       "      <td>...</td>\n",
       "    </tr>\n",
       "    <tr>\n",
       "      <th>32555</th>\n",
       "      <td>27</td>\n",
       "      <td>4.0</td>\n",
       "      <td>1622.249145</td>\n",
       "      <td>6.0</td>\n",
       "      <td>12</td>\n",
       "      <td>2.0</td>\n",
       "      <td>13.0</td>\n",
       "      <td>5.0</td>\n",
       "      <td>4.0</td>\n",
       "      <td>0.0</td>\n",
       "      <td>38</td>\n",
       "      <td>39.0</td>\n",
       "      <td>0.0</td>\n",
       "    </tr>\n",
       "    <tr>\n",
       "      <th>32556</th>\n",
       "      <td>40</td>\n",
       "      <td>4.0</td>\n",
       "      <td>1227.786866</td>\n",
       "      <td>10.0</td>\n",
       "      <td>9</td>\n",
       "      <td>2.0</td>\n",
       "      <td>7.0</td>\n",
       "      <td>0.0</td>\n",
       "      <td>4.0</td>\n",
       "      <td>1.0</td>\n",
       "      <td>40</td>\n",
       "      <td>39.0</td>\n",
       "      <td>1.0</td>\n",
       "    </tr>\n",
       "    <tr>\n",
       "      <th>32557</th>\n",
       "      <td>58</td>\n",
       "      <td>4.0</td>\n",
       "      <td>1217.058628</td>\n",
       "      <td>10.0</td>\n",
       "      <td>9</td>\n",
       "      <td>6.0</td>\n",
       "      <td>1.0</td>\n",
       "      <td>4.0</td>\n",
       "      <td>4.0</td>\n",
       "      <td>0.0</td>\n",
       "      <td>40</td>\n",
       "      <td>39.0</td>\n",
       "      <td>0.0</td>\n",
       "    </tr>\n",
       "    <tr>\n",
       "      <th>32558</th>\n",
       "      <td>22</td>\n",
       "      <td>4.0</td>\n",
       "      <td>1419.754498</td>\n",
       "      <td>10.0</td>\n",
       "      <td>9</td>\n",
       "      <td>4.0</td>\n",
       "      <td>1.0</td>\n",
       "      <td>3.0</td>\n",
       "      <td>4.0</td>\n",
       "      <td>1.0</td>\n",
       "      <td>20</td>\n",
       "      <td>39.0</td>\n",
       "      <td>0.0</td>\n",
       "    </tr>\n",
       "    <tr>\n",
       "      <th>32559</th>\n",
       "      <td>52</td>\n",
       "      <td>5.0</td>\n",
       "      <td>1724.829523</td>\n",
       "      <td>10.0</td>\n",
       "      <td>9</td>\n",
       "      <td>2.0</td>\n",
       "      <td>4.0</td>\n",
       "      <td>5.0</td>\n",
       "      <td>4.0</td>\n",
       "      <td>0.0</td>\n",
       "      <td>40</td>\n",
       "      <td>39.0</td>\n",
       "      <td>1.0</td>\n",
       "    </tr>\n",
       "  </tbody>\n",
       "</table>\n",
       "<p>31461 rows × 13 columns</p>\n",
       "</div>"
      ],
      "text/plain": [
       "       Age  Workclass       Fnlwgt  Education  Education_num  Marital_status  \\\n",
       "0       50        6.0   876.945793        8.0             13             2.0   \n",
       "1       38        4.0  1473.308495       10.0              9             0.0   \n",
       "2       53        4.0  1543.001338        1.0              7             2.0   \n",
       "3       28        4.0  1883.632900        8.0             13             2.0   \n",
       "4       37        4.0  1713.875361       11.0             14             2.0   \n",
       "...    ...        ...          ...        ...            ...             ...   \n",
       "32555   27        4.0  1622.249145        6.0             12             2.0   \n",
       "32556   40        4.0  1227.786866       10.0              9             2.0   \n",
       "32557   58        4.0  1217.058628       10.0              9             6.0   \n",
       "32558   22        4.0  1419.754498       10.0              9             4.0   \n",
       "32559   52        5.0  1724.829523       10.0              9             2.0   \n",
       "\n",
       "       Occupation  Relationship  Race  Sex  Hours_per_week  Native_country  \\\n",
       "0             4.0           0.0   4.0  1.0              13            39.0   \n",
       "1             6.0           1.0   4.0  1.0              40            39.0   \n",
       "2             6.0           0.0   2.0  1.0              40            39.0   \n",
       "3            10.0           5.0   2.0  0.0              40             5.0   \n",
       "4             4.0           5.0   4.0  0.0              40            39.0   \n",
       "...           ...           ...   ...  ...             ...             ...   \n",
       "32555        13.0           5.0   4.0  0.0              38            39.0   \n",
       "32556         7.0           0.0   4.0  1.0              40            39.0   \n",
       "32557         1.0           4.0   4.0  0.0              40            39.0   \n",
       "32558         1.0           3.0   4.0  1.0              20            39.0   \n",
       "32559         4.0           5.0   4.0  0.0              40            39.0   \n",
       "\n",
       "       Income  \n",
       "0         0.0  \n",
       "1         0.0  \n",
       "2         0.0  \n",
       "3         0.0  \n",
       "4         0.0  \n",
       "...       ...  \n",
       "32555     0.0  \n",
       "32556     1.0  \n",
       "32557     0.0  \n",
       "32558     0.0  \n",
       "32559     1.0  \n",
       "\n",
       "[31461 rows x 13 columns]"
      ]
     },
     "execution_count": 57,
     "metadata": {},
     "output_type": "execute_result"
    }
   ],
   "source": [
    "# encoding/converting the categorical column using ordinal encoder\n",
    "from sklearn.preprocessing import OrdinalEncoder\n",
    "OE=OrdinalEncoder()\n",
    "for i in df.columns:\n",
    "    if df[i].dtype=='object':\n",
    "        df[i]=OE.fit_transform(df[i].values.reshape(-1,1))\n",
    "df"
   ]
  },
  {
   "cell_type": "code",
   "execution_count": 58,
   "id": "8a818fa1",
   "metadata": {},
   "outputs": [
    {
     "name": "stdout",
     "output_type": "stream",
     "text": [
      "<class 'pandas.core.frame.DataFrame'>\n",
      "Int64Index: 31461 entries, 0 to 32559\n",
      "Data columns (total 13 columns):\n",
      " #   Column          Non-Null Count  Dtype  \n",
      "---  ------          --------------  -----  \n",
      " 0   Age             31461 non-null  int64  \n",
      " 1   Workclass       31461 non-null  float64\n",
      " 2   Fnlwgt          31461 non-null  float64\n",
      " 3   Education       31461 non-null  float64\n",
      " 4   Education_num   31461 non-null  int64  \n",
      " 5   Marital_status  31461 non-null  float64\n",
      " 6   Occupation      31461 non-null  float64\n",
      " 7   Relationship    31461 non-null  float64\n",
      " 8   Race            31461 non-null  float64\n",
      " 9   Sex             31461 non-null  float64\n",
      " 10  Hours_per_week  31461 non-null  int64  \n",
      " 11  Native_country  31461 non-null  float64\n",
      " 12  Income          31461 non-null  float64\n",
      "dtypes: float64(10), int64(3)\n",
      "memory usage: 3.4 MB\n"
     ]
    }
   ],
   "source": [
    "df.info()"
   ]
  },
  {
   "cell_type": "code",
   "execution_count": 59,
   "id": "f758eb02",
   "metadata": {},
   "outputs": [
    {
     "data": {
      "text/html": [
       "<div>\n",
       "<style scoped>\n",
       "    .dataframe tbody tr th:only-of-type {\n",
       "        vertical-align: middle;\n",
       "    }\n",
       "\n",
       "    .dataframe tbody tr th {\n",
       "        vertical-align: top;\n",
       "    }\n",
       "\n",
       "    .dataframe thead th {\n",
       "        text-align: right;\n",
       "    }\n",
       "</style>\n",
       "<table border=\"1\" class=\"dataframe\">\n",
       "  <thead>\n",
       "    <tr style=\"text-align: right;\">\n",
       "      <th></th>\n",
       "      <th>Age</th>\n",
       "      <th>Workclass</th>\n",
       "      <th>Fnlwgt</th>\n",
       "      <th>Education</th>\n",
       "      <th>Education_num</th>\n",
       "      <th>Marital_status</th>\n",
       "      <th>Occupation</th>\n",
       "      <th>Relationship</th>\n",
       "      <th>Race</th>\n",
       "      <th>Sex</th>\n",
       "      <th>Hours_per_week</th>\n",
       "      <th>Native_country</th>\n",
       "      <th>Income</th>\n",
       "    </tr>\n",
       "  </thead>\n",
       "  <tbody>\n",
       "    <tr>\n",
       "      <th>count</th>\n",
       "      <td>31461.000000</td>\n",
       "      <td>31461.000000</td>\n",
       "      <td>31461.000000</td>\n",
       "      <td>31461.000000</td>\n",
       "      <td>31461.000000</td>\n",
       "      <td>31461.000000</td>\n",
       "      <td>31461.000000</td>\n",
       "      <td>31461.000000</td>\n",
       "      <td>31461.000000</td>\n",
       "      <td>31461.000000</td>\n",
       "      <td>31461.000000</td>\n",
       "      <td>31461.000000</td>\n",
       "      <td>31461.000000</td>\n",
       "    </tr>\n",
       "    <tr>\n",
       "      <th>mean</th>\n",
       "      <td>38.337847</td>\n",
       "      <td>3.871047</td>\n",
       "      <td>1308.025471</td>\n",
       "      <td>9.172626</td>\n",
       "      <td>10.139188</td>\n",
       "      <td>2.607133</td>\n",
       "      <td>6.577127</td>\n",
       "      <td>1.453832</td>\n",
       "      <td>3.668542</td>\n",
       "      <td>0.666985</td>\n",
       "      <td>40.093481</td>\n",
       "      <td>36.794666</td>\n",
       "      <td>0.241823</td>\n",
       "    </tr>\n",
       "    <tr>\n",
       "      <th>std</th>\n",
       "      <td>13.327526</td>\n",
       "      <td>1.447182</td>\n",
       "      <td>386.912212</td>\n",
       "      <td>3.366345</td>\n",
       "      <td>2.478384</td>\n",
       "      <td>1.504329</td>\n",
       "      <td>4.230862</td>\n",
       "      <td>1.609711</td>\n",
       "      <td>0.847073</td>\n",
       "      <td>0.471300</td>\n",
       "      <td>11.176797</td>\n",
       "      <td>7.738641</td>\n",
       "      <td>0.428195</td>\n",
       "    </tr>\n",
       "    <tr>\n",
       "      <th>min</th>\n",
       "      <td>17.000000</td>\n",
       "      <td>0.000000</td>\n",
       "      <td>307.997294</td>\n",
       "      <td>0.000000</td>\n",
       "      <td>3.000000</td>\n",
       "      <td>0.000000</td>\n",
       "      <td>0.000000</td>\n",
       "      <td>0.000000</td>\n",
       "      <td>0.000000</td>\n",
       "      <td>0.000000</td>\n",
       "      <td>4.000000</td>\n",
       "      <td>0.000000</td>\n",
       "      <td>0.000000</td>\n",
       "    </tr>\n",
       "    <tr>\n",
       "      <th>25%</th>\n",
       "      <td>28.000000</td>\n",
       "      <td>4.000000</td>\n",
       "      <td>1058.080975</td>\n",
       "      <td>8.000000</td>\n",
       "      <td>9.000000</td>\n",
       "      <td>2.000000</td>\n",
       "      <td>3.000000</td>\n",
       "      <td>0.000000</td>\n",
       "      <td>4.000000</td>\n",
       "      <td>0.000000</td>\n",
       "      <td>40.000000</td>\n",
       "      <td>39.000000</td>\n",
       "      <td>0.000000</td>\n",
       "    </tr>\n",
       "    <tr>\n",
       "      <th>50%</th>\n",
       "      <td>37.000000</td>\n",
       "      <td>4.000000</td>\n",
       "      <td>1324.561791</td>\n",
       "      <td>10.000000</td>\n",
       "      <td>10.000000</td>\n",
       "      <td>2.000000</td>\n",
       "      <td>7.000000</td>\n",
       "      <td>1.000000</td>\n",
       "      <td>4.000000</td>\n",
       "      <td>1.000000</td>\n",
       "      <td>40.000000</td>\n",
       "      <td>39.000000</td>\n",
       "      <td>0.000000</td>\n",
       "    </tr>\n",
       "    <tr>\n",
       "      <th>75%</th>\n",
       "      <td>47.000000</td>\n",
       "      <td>4.000000</td>\n",
       "      <td>1540.249943</td>\n",
       "      <td>11.000000</td>\n",
       "      <td>12.000000</td>\n",
       "      <td>4.000000</td>\n",
       "      <td>10.000000</td>\n",
       "      <td>3.000000</td>\n",
       "      <td>4.000000</td>\n",
       "      <td>1.000000</td>\n",
       "      <td>45.000000</td>\n",
       "      <td>39.000000</td>\n",
       "      <td>0.000000</td>\n",
       "    </tr>\n",
       "    <tr>\n",
       "      <th>max</th>\n",
       "      <td>79.000000</td>\n",
       "      <td>8.000000</td>\n",
       "      <td>2346.310503</td>\n",
       "      <td>13.000000</td>\n",
       "      <td>16.000000</td>\n",
       "      <td>6.000000</td>\n",
       "      <td>14.000000</td>\n",
       "      <td>5.000000</td>\n",
       "      <td>4.000000</td>\n",
       "      <td>1.000000</td>\n",
       "      <td>77.000000</td>\n",
       "      <td>41.000000</td>\n",
       "      <td>1.000000</td>\n",
       "    </tr>\n",
       "  </tbody>\n",
       "</table>\n",
       "</div>"
      ],
      "text/plain": [
       "                Age     Workclass        Fnlwgt     Education  Education_num  \\\n",
       "count  31461.000000  31461.000000  31461.000000  31461.000000   31461.000000   \n",
       "mean      38.337847      3.871047   1308.025471      9.172626      10.139188   \n",
       "std       13.327526      1.447182    386.912212      3.366345       2.478384   \n",
       "min       17.000000      0.000000    307.997294      0.000000       3.000000   \n",
       "25%       28.000000      4.000000   1058.080975      8.000000       9.000000   \n",
       "50%       37.000000      4.000000   1324.561791     10.000000      10.000000   \n",
       "75%       47.000000      4.000000   1540.249943     11.000000      12.000000   \n",
       "max       79.000000      8.000000   2346.310503     13.000000      16.000000   \n",
       "\n",
       "       Marital_status    Occupation  Relationship          Race           Sex  \\\n",
       "count    31461.000000  31461.000000  31461.000000  31461.000000  31461.000000   \n",
       "mean         2.607133      6.577127      1.453832      3.668542      0.666985   \n",
       "std          1.504329      4.230862      1.609711      0.847073      0.471300   \n",
       "min          0.000000      0.000000      0.000000      0.000000      0.000000   \n",
       "25%          2.000000      3.000000      0.000000      4.000000      0.000000   \n",
       "50%          2.000000      7.000000      1.000000      4.000000      1.000000   \n",
       "75%          4.000000     10.000000      3.000000      4.000000      1.000000   \n",
       "max          6.000000     14.000000      5.000000      4.000000      1.000000   \n",
       "\n",
       "       Hours_per_week  Native_country        Income  \n",
       "count    31461.000000    31461.000000  31461.000000  \n",
       "mean        40.093481       36.794666      0.241823  \n",
       "std         11.176797        7.738641      0.428195  \n",
       "min          4.000000        0.000000      0.000000  \n",
       "25%         40.000000       39.000000      0.000000  \n",
       "50%         40.000000       39.000000      0.000000  \n",
       "75%         45.000000       39.000000      0.000000  \n",
       "max         77.000000       41.000000      1.000000  "
      ]
     },
     "execution_count": 59,
     "metadata": {},
     "output_type": "execute_result"
    }
   ],
   "source": [
    "# now we will se the statistical summery of the data\n",
    "df.describe()"
   ]
  },
  {
   "cell_type": "markdown",
   "id": "97a7fabe",
   "metadata": {},
   "source": [
    "### Correlation between the target variable and features"
   ]
  },
  {
   "cell_type": "code",
   "execution_count": 60,
   "id": "1322e72b",
   "metadata": {},
   "outputs": [
    {
     "data": {
      "text/html": [
       "<div>\n",
       "<style scoped>\n",
       "    .dataframe tbody tr th:only-of-type {\n",
       "        vertical-align: middle;\n",
       "    }\n",
       "\n",
       "    .dataframe tbody tr th {\n",
       "        vertical-align: top;\n",
       "    }\n",
       "\n",
       "    .dataframe thead th {\n",
       "        text-align: right;\n",
       "    }\n",
       "</style>\n",
       "<table border=\"1\" class=\"dataframe\">\n",
       "  <thead>\n",
       "    <tr style=\"text-align: right;\">\n",
       "      <th></th>\n",
       "      <th>Age</th>\n",
       "      <th>Workclass</th>\n",
       "      <th>Fnlwgt</th>\n",
       "      <th>Education</th>\n",
       "      <th>Education_num</th>\n",
       "      <th>Marital_status</th>\n",
       "      <th>Occupation</th>\n",
       "      <th>Relationship</th>\n",
       "      <th>Race</th>\n",
       "      <th>Sex</th>\n",
       "      <th>Hours_per_week</th>\n",
       "      <th>Native_country</th>\n",
       "      <th>Income</th>\n",
       "    </tr>\n",
       "  </thead>\n",
       "  <tbody>\n",
       "    <tr>\n",
       "      <th>Age</th>\n",
       "      <td>1.000000</td>\n",
       "      <td>0.013841</td>\n",
       "      <td>-0.066519</td>\n",
       "      <td>-0.000447</td>\n",
       "      <td>0.053361</td>\n",
       "      <td>-0.286424</td>\n",
       "      <td>-0.013628</td>\n",
       "      <td>-0.268028</td>\n",
       "      <td>0.030679</td>\n",
       "      <td>0.091664</td>\n",
       "      <td>0.097510</td>\n",
       "      <td>-0.000777</td>\n",
       "      <td>0.248351</td>\n",
       "    </tr>\n",
       "    <tr>\n",
       "      <th>Workclass</th>\n",
       "      <td>0.013841</td>\n",
       "      <td>1.000000</td>\n",
       "      <td>-0.014309</td>\n",
       "      <td>0.023067</td>\n",
       "      <td>0.052631</td>\n",
       "      <td>-0.064271</td>\n",
       "      <td>0.248164</td>\n",
       "      <td>-0.090722</td>\n",
       "      <td>0.048366</td>\n",
       "      <td>0.095209</td>\n",
       "      <td>0.128717</td>\n",
       "      <td>-0.006383</td>\n",
       "      <td>0.051504</td>\n",
       "    </tr>\n",
       "    <tr>\n",
       "      <th>Fnlwgt</th>\n",
       "      <td>-0.066519</td>\n",
       "      <td>-0.014309</td>\n",
       "      <td>1.000000</td>\n",
       "      <td>-0.024191</td>\n",
       "      <td>-0.033150</td>\n",
       "      <td>0.027732</td>\n",
       "      <td>0.003595</td>\n",
       "      <td>0.008287</td>\n",
       "      <td>-0.008299</td>\n",
       "      <td>0.025290</td>\n",
       "      <td>-0.015566</td>\n",
       "      <td>-0.053338</td>\n",
       "      <td>-0.004586</td>\n",
       "    </tr>\n",
       "    <tr>\n",
       "      <th>Education</th>\n",
       "      <td>-0.000447</td>\n",
       "      <td>0.023067</td>\n",
       "      <td>-0.024191</td>\n",
       "      <td>1.000000</td>\n",
       "      <td>0.356040</td>\n",
       "      <td>-0.039094</td>\n",
       "      <td>-0.021625</td>\n",
       "      <td>-0.015121</td>\n",
       "      <td>0.015552</td>\n",
       "      <td>-0.024911</td>\n",
       "      <td>0.061325</td>\n",
       "      <td>0.058092</td>\n",
       "      <td>0.077526</td>\n",
       "    </tr>\n",
       "    <tr>\n",
       "      <th>Education_num</th>\n",
       "      <td>0.053361</td>\n",
       "      <td>0.052631</td>\n",
       "      <td>-0.033150</td>\n",
       "      <td>0.356040</td>\n",
       "      <td>1.000000</td>\n",
       "      <td>-0.065568</td>\n",
       "      <td>0.112686</td>\n",
       "      <td>-0.102497</td>\n",
       "      <td>0.030849</td>\n",
       "      <td>0.016662</td>\n",
       "      <td>0.160483</td>\n",
       "      <td>0.022528</td>\n",
       "      <td>0.337595</td>\n",
       "    </tr>\n",
       "    <tr>\n",
       "      <th>Marital_status</th>\n",
       "      <td>-0.286424</td>\n",
       "      <td>-0.064271</td>\n",
       "      <td>0.027732</td>\n",
       "      <td>-0.039094</td>\n",
       "      <td>-0.065568</td>\n",
       "      <td>1.000000</td>\n",
       "      <td>-0.009028</td>\n",
       "      <td>0.185772</td>\n",
       "      <td>-0.067546</td>\n",
       "      <td>-0.127375</td>\n",
       "      <td>-0.197532</td>\n",
       "      <td>-0.021275</td>\n",
       "      <td>-0.198475</td>\n",
       "    </tr>\n",
       "    <tr>\n",
       "      <th>Occupation</th>\n",
       "      <td>-0.013628</td>\n",
       "      <td>0.248164</td>\n",
       "      <td>0.003595</td>\n",
       "      <td>-0.021625</td>\n",
       "      <td>0.112686</td>\n",
       "      <td>-0.009028</td>\n",
       "      <td>1.000000</td>\n",
       "      <td>-0.076199</td>\n",
       "      <td>0.007311</td>\n",
       "      <td>0.080495</td>\n",
       "      <td>0.071974</td>\n",
       "      <td>-0.011770</td>\n",
       "      <td>0.074643</td>\n",
       "    </tr>\n",
       "    <tr>\n",
       "      <th>Relationship</th>\n",
       "      <td>-0.268028</td>\n",
       "      <td>-0.090722</td>\n",
       "      <td>0.008287</td>\n",
       "      <td>-0.015121</td>\n",
       "      <td>-0.102497</td>\n",
       "      <td>0.185772</td>\n",
       "      <td>-0.076199</td>\n",
       "      <td>1.000000</td>\n",
       "      <td>-0.115216</td>\n",
       "      <td>-0.582940</td>\n",
       "      <td>-0.263412</td>\n",
       "      <td>-0.005806</td>\n",
       "      <td>-0.251506</td>\n",
       "    </tr>\n",
       "    <tr>\n",
       "      <th>Race</th>\n",
       "      <td>0.030679</td>\n",
       "      <td>0.048366</td>\n",
       "      <td>-0.008299</td>\n",
       "      <td>0.015552</td>\n",
       "      <td>0.030849</td>\n",
       "      <td>-0.067546</td>\n",
       "      <td>0.007311</td>\n",
       "      <td>-0.115216</td>\n",
       "      <td>1.000000</td>\n",
       "      <td>0.088642</td>\n",
       "      <td>0.045331</td>\n",
       "      <td>0.142246</td>\n",
       "      <td>0.072451</td>\n",
       "    </tr>\n",
       "    <tr>\n",
       "      <th>Sex</th>\n",
       "      <td>0.091664</td>\n",
       "      <td>0.095209</td>\n",
       "      <td>0.025290</td>\n",
       "      <td>-0.024911</td>\n",
       "      <td>0.016662</td>\n",
       "      <td>-0.127375</td>\n",
       "      <td>0.080495</td>\n",
       "      <td>-0.582940</td>\n",
       "      <td>0.088642</td>\n",
       "      <td>1.000000</td>\n",
       "      <td>0.239039</td>\n",
       "      <td>-0.008325</td>\n",
       "      <td>0.216665</td>\n",
       "    </tr>\n",
       "    <tr>\n",
       "      <th>Hours_per_week</th>\n",
       "      <td>0.097510</td>\n",
       "      <td>0.128717</td>\n",
       "      <td>-0.015566</td>\n",
       "      <td>0.061325</td>\n",
       "      <td>0.160483</td>\n",
       "      <td>-0.197532</td>\n",
       "      <td>0.071974</td>\n",
       "      <td>-0.263412</td>\n",
       "      <td>0.045331</td>\n",
       "      <td>0.239039</td>\n",
       "      <td>1.000000</td>\n",
       "      <td>-0.004657</td>\n",
       "      <td>0.242383</td>\n",
       "    </tr>\n",
       "    <tr>\n",
       "      <th>Native_country</th>\n",
       "      <td>-0.000777</td>\n",
       "      <td>-0.006383</td>\n",
       "      <td>-0.053338</td>\n",
       "      <td>0.058092</td>\n",
       "      <td>0.022528</td>\n",
       "      <td>-0.021275</td>\n",
       "      <td>-0.011770</td>\n",
       "      <td>-0.005806</td>\n",
       "      <td>0.142246</td>\n",
       "      <td>-0.008325</td>\n",
       "      <td>-0.004657</td>\n",
       "      <td>1.000000</td>\n",
       "      <td>0.010688</td>\n",
       "    </tr>\n",
       "    <tr>\n",
       "      <th>Income</th>\n",
       "      <td>0.248351</td>\n",
       "      <td>0.051504</td>\n",
       "      <td>-0.004586</td>\n",
       "      <td>0.077526</td>\n",
       "      <td>0.337595</td>\n",
       "      <td>-0.198475</td>\n",
       "      <td>0.074643</td>\n",
       "      <td>-0.251506</td>\n",
       "      <td>0.072451</td>\n",
       "      <td>0.216665</td>\n",
       "      <td>0.242383</td>\n",
       "      <td>0.010688</td>\n",
       "      <td>1.000000</td>\n",
       "    </tr>\n",
       "  </tbody>\n",
       "</table>\n",
       "</div>"
      ],
      "text/plain": [
       "                     Age  Workclass    Fnlwgt  Education  Education_num  \\\n",
       "Age             1.000000   0.013841 -0.066519  -0.000447       0.053361   \n",
       "Workclass       0.013841   1.000000 -0.014309   0.023067       0.052631   \n",
       "Fnlwgt         -0.066519  -0.014309  1.000000  -0.024191      -0.033150   \n",
       "Education      -0.000447   0.023067 -0.024191   1.000000       0.356040   \n",
       "Education_num   0.053361   0.052631 -0.033150   0.356040       1.000000   \n",
       "Marital_status -0.286424  -0.064271  0.027732  -0.039094      -0.065568   \n",
       "Occupation     -0.013628   0.248164  0.003595  -0.021625       0.112686   \n",
       "Relationship   -0.268028  -0.090722  0.008287  -0.015121      -0.102497   \n",
       "Race            0.030679   0.048366 -0.008299   0.015552       0.030849   \n",
       "Sex             0.091664   0.095209  0.025290  -0.024911       0.016662   \n",
       "Hours_per_week  0.097510   0.128717 -0.015566   0.061325       0.160483   \n",
       "Native_country -0.000777  -0.006383 -0.053338   0.058092       0.022528   \n",
       "Income          0.248351   0.051504 -0.004586   0.077526       0.337595   \n",
       "\n",
       "                Marital_status  Occupation  Relationship      Race       Sex  \\\n",
       "Age                  -0.286424   -0.013628     -0.268028  0.030679  0.091664   \n",
       "Workclass            -0.064271    0.248164     -0.090722  0.048366  0.095209   \n",
       "Fnlwgt                0.027732    0.003595      0.008287 -0.008299  0.025290   \n",
       "Education            -0.039094   -0.021625     -0.015121  0.015552 -0.024911   \n",
       "Education_num        -0.065568    0.112686     -0.102497  0.030849  0.016662   \n",
       "Marital_status        1.000000   -0.009028      0.185772 -0.067546 -0.127375   \n",
       "Occupation           -0.009028    1.000000     -0.076199  0.007311  0.080495   \n",
       "Relationship          0.185772   -0.076199      1.000000 -0.115216 -0.582940   \n",
       "Race                 -0.067546    0.007311     -0.115216  1.000000  0.088642   \n",
       "Sex                  -0.127375    0.080495     -0.582940  0.088642  1.000000   \n",
       "Hours_per_week       -0.197532    0.071974     -0.263412  0.045331  0.239039   \n",
       "Native_country       -0.021275   -0.011770     -0.005806  0.142246 -0.008325   \n",
       "Income               -0.198475    0.074643     -0.251506  0.072451  0.216665   \n",
       "\n",
       "                Hours_per_week  Native_country    Income  \n",
       "Age                   0.097510       -0.000777  0.248351  \n",
       "Workclass             0.128717       -0.006383  0.051504  \n",
       "Fnlwgt               -0.015566       -0.053338 -0.004586  \n",
       "Education             0.061325        0.058092  0.077526  \n",
       "Education_num         0.160483        0.022528  0.337595  \n",
       "Marital_status       -0.197532       -0.021275 -0.198475  \n",
       "Occupation            0.071974       -0.011770  0.074643  \n",
       "Relationship         -0.263412       -0.005806 -0.251506  \n",
       "Race                  0.045331        0.142246  0.072451  \n",
       "Sex                   0.239039       -0.008325  0.216665  \n",
       "Hours_per_week        1.000000       -0.004657  0.242383  \n",
       "Native_country       -0.004657        1.000000  0.010688  \n",
       "Income                0.242383        0.010688  1.000000  "
      ]
     },
     "execution_count": 60,
     "metadata": {},
     "output_type": "execute_result"
    }
   ],
   "source": [
    "# checking te correlation\n",
    "cor=df.corr()\n",
    "cor"
   ]
  },
  {
   "cell_type": "markdown",
   "id": "4f7bb7eb",
   "metadata": {},
   "source": [
    "The correlation range is fro -1 to +1, -1 represent higly negative correlated and +1 shows perfectly positive correlation\n",
    "\n",
    "0 value represent no correlation\n",
    "\n",
    "from -0.3 to +0.3 is considered as less correlation\n",
    "\n",
    "from -0.3 to -0.5 and +0.3 to +0.5 is considered as moderate correlated, +ve and -ve respectively\n",
    "\n",
    "0.5 to 0.7 is considered high positive correlated and -0.5 to -0.7 id considered high negative correlated\n",
    "\n",
    "0.7 to 1 is considered very high positive correlated and -0.7 to -1 id considered very high negative correlated"
   ]
  },
  {
   "cell_type": "markdown",
   "id": "cd3df764",
   "metadata": {},
   "source": [
    "### visualizing the correlation using heat map"
   ]
  },
  {
   "cell_type": "code",
   "execution_count": 61,
   "id": "9f7906c9",
   "metadata": {},
   "outputs": [
    {
     "data": {
      "image/png": "[encoded data removed]",
      "text/plain": [
       "<Figure size 1440x1080 with 2 Axes>"
      ]
     },
     "metadata": {
      "needs_background": "light"
     },
     "output_type": "display_data"
    }
   ],
   "source": [
    "plt.figure(figsize=(20,15))\n",
    "sns.heatmap(df.corr(),linewidth=0.1,fmt='.1g',linecolor='black',annot=True,cmap='Blues_r') # if we will not write annot=true it will not write values on the graph\n",
    "plt.yticks(rotation=0);\n",
    "plt.show()"
   ]
  },
  {
   "cell_type": "code",
   "execution_count": 62,
   "id": "334f1107",
   "metadata": {},
   "outputs": [
    {
     "data": {
      "text/plain": [
       "Income            1.000000\n",
       "Education_num     0.337595\n",
       "Age               0.248351\n",
       "Hours_per_week    0.242383\n",
       "Sex               0.216665\n",
       "Education         0.077526\n",
       "Occupation        0.074643\n",
       "Race              0.072451\n",
       "Workclass         0.051504\n",
       "Native_country    0.010688\n",
       "Fnlwgt           -0.004586\n",
       "Marital_status   -0.198475\n",
       "Relationship     -0.251506\n",
       "Name: Income, dtype: float64"
      ]
     },
     "execution_count": 62,
     "metadata": {},
     "output_type": "execute_result"
    }
   ],
   "source": [
    "cor['Income'].sort_values(ascending=False)"
   ]
  },
  {
   "cell_type": "markdown",
   "id": "bc85ef8d",
   "metadata": {},
   "source": [
    "### Visualization the relation between the taget variable and the features by using the bar plot"
   ]
  },
  {
   "cell_type": "code",
   "execution_count": 63,
   "id": "6282488c",
   "metadata": {},
   "outputs": [
    {
     "data": {
      "image/png": "[encoded data removed]",
      "text/plain": [
       "<Figure size 1584x504 with 1 Axes>"
      ]
     },
     "metadata": {
      "needs_background": "light"
     },
     "output_type": "display_data"
    }
   ],
   "source": [
    "plt.figure(figsize=(22,7))\n",
    "df.corr()['Income'].sort_values(ascending=False).drop(['Income']).plot(kind='bar', color='b') # we are dropping the churn rate as we dont want to compare churn with churn\n",
    "plt.xlabel('Feature',fontsize=15)\n",
    "plt.ylabel('Target',fontsize=15)\n",
    "plt.title('Correlation between features and the Loan_Status(target)',fontsize=20)\n",
    "plt.show()"
   ]
  },
  {
   "cell_type": "markdown",
   "id": "7879806e",
   "metadata": {},
   "source": [
    "## Seperating features and label"
   ]
  },
  {
   "cell_type": "code",
   "execution_count": 64,
   "id": "9e8e5093",
   "metadata": {},
   "outputs": [],
   "source": [
    "x=df.drop('Income',axis=1)\n",
    "y=df['Income']"
   ]
  },
  {
   "cell_type": "code",
   "execution_count": 65,
   "id": "1d8afd07",
   "metadata": {},
   "outputs": [
    {
     "data": {
      "text/html": [
       "<div>\n",
       "<style scoped>\n",
       "    .dataframe tbody tr th:only-of-type {\n",
       "        vertical-align: middle;\n",
       "    }\n",
       "\n",
       "    .dataframe tbody tr th {\n",
       "        vertical-align: top;\n",
       "    }\n",
       "\n",
       "    .dataframe thead th {\n",
       "        text-align: right;\n",
       "    }\n",
       "</style>\n",
       "<table border=\"1\" class=\"dataframe\">\n",
       "  <thead>\n",
       "    <tr style=\"text-align: right;\">\n",
       "      <th></th>\n",
       "      <th>Age</th>\n",
       "      <th>Workclass</th>\n",
       "      <th>Fnlwgt</th>\n",
       "      <th>Education</th>\n",
       "      <th>Education_num</th>\n",
       "      <th>Marital_status</th>\n",
       "      <th>Occupation</th>\n",
       "      <th>Relationship</th>\n",
       "      <th>Race</th>\n",
       "      <th>Sex</th>\n",
       "      <th>Hours_per_week</th>\n",
       "      <th>Native_country</th>\n",
       "    </tr>\n",
       "  </thead>\n",
       "  <tbody>\n",
       "    <tr>\n",
       "      <th>0</th>\n",
       "      <td>0.875057</td>\n",
       "      <td>1.471126</td>\n",
       "      <td>-1.114171</td>\n",
       "      <td>-0.348344</td>\n",
       "      <td>1.154324</td>\n",
       "      <td>-0.403597</td>\n",
       "      <td>-0.609135</td>\n",
       "      <td>-0.903178</td>\n",
       "      <td>0.391304</td>\n",
       "      <td>0.706601</td>\n",
       "      <td>-2.424121</td>\n",
       "      <td>0.284981</td>\n",
       "    </tr>\n",
       "    <tr>\n",
       "      <th>1</th>\n",
       "      <td>-0.025350</td>\n",
       "      <td>0.089108</td>\n",
       "      <td>0.427192</td>\n",
       "      <td>0.245782</td>\n",
       "      <td>-0.459657</td>\n",
       "      <td>-1.733114</td>\n",
       "      <td>-0.136411</td>\n",
       "      <td>-0.281938</td>\n",
       "      <td>0.391304</td>\n",
       "      <td>0.706601</td>\n",
       "      <td>-0.008364</td>\n",
       "      <td>0.284981</td>\n",
       "    </tr>\n",
       "    <tr>\n",
       "      <th>2</th>\n",
       "      <td>1.100158</td>\n",
       "      <td>0.089108</td>\n",
       "      <td>0.607320</td>\n",
       "      <td>-2.427783</td>\n",
       "      <td>-1.266647</td>\n",
       "      <td>-0.403597</td>\n",
       "      <td>-0.136411</td>\n",
       "      <td>-0.903178</td>\n",
       "      <td>-1.969806</td>\n",
       "      <td>0.706601</td>\n",
       "      <td>-0.008364</td>\n",
       "      <td>0.284981</td>\n",
       "    </tr>\n",
       "    <tr>\n",
       "      <th>3</th>\n",
       "      <td>-0.775689</td>\n",
       "      <td>0.089108</td>\n",
       "      <td>1.487719</td>\n",
       "      <td>-0.348344</td>\n",
       "      <td>1.154324</td>\n",
       "      <td>-0.403597</td>\n",
       "      <td>0.809038</td>\n",
       "      <td>2.203019</td>\n",
       "      <td>-1.969806</td>\n",
       "      <td>-1.415226</td>\n",
       "      <td>-0.008364</td>\n",
       "      <td>-4.108624</td>\n",
       "    </tr>\n",
       "    <tr>\n",
       "      <th>4</th>\n",
       "      <td>-0.100384</td>\n",
       "      <td>0.089108</td>\n",
       "      <td>1.048962</td>\n",
       "      <td>0.542845</td>\n",
       "      <td>1.557819</td>\n",
       "      <td>-0.403597</td>\n",
       "      <td>-0.609135</td>\n",
       "      <td>2.203019</td>\n",
       "      <td>0.391304</td>\n",
       "      <td>-1.415226</td>\n",
       "      <td>-0.008364</td>\n",
       "      <td>0.284981</td>\n",
       "    </tr>\n",
       "    <tr>\n",
       "      <th>...</th>\n",
       "      <td>...</td>\n",
       "      <td>...</td>\n",
       "      <td>...</td>\n",
       "      <td>...</td>\n",
       "      <td>...</td>\n",
       "      <td>...</td>\n",
       "      <td>...</td>\n",
       "      <td>...</td>\n",
       "      <td>...</td>\n",
       "      <td>...</td>\n",
       "      <td>...</td>\n",
       "      <td>...</td>\n",
       "    </tr>\n",
       "    <tr>\n",
       "      <th>31456</th>\n",
       "      <td>-0.850723</td>\n",
       "      <td>0.089108</td>\n",
       "      <td>0.812145</td>\n",
       "      <td>-0.942469</td>\n",
       "      <td>0.750829</td>\n",
       "      <td>-0.403597</td>\n",
       "      <td>1.518124</td>\n",
       "      <td>2.203019</td>\n",
       "      <td>0.391304</td>\n",
       "      <td>-1.415226</td>\n",
       "      <td>-0.187309</td>\n",
       "      <td>0.284981</td>\n",
       "    </tr>\n",
       "    <tr>\n",
       "      <th>31457</th>\n",
       "      <td>0.124718</td>\n",
       "      <td>0.089108</td>\n",
       "      <td>-0.207385</td>\n",
       "      <td>0.245782</td>\n",
       "      <td>-0.459657</td>\n",
       "      <td>-0.403597</td>\n",
       "      <td>0.099951</td>\n",
       "      <td>-0.903178</td>\n",
       "      <td>0.391304</td>\n",
       "      <td>0.706601</td>\n",
       "      <td>-0.008364</td>\n",
       "      <td>0.284981</td>\n",
       "    </tr>\n",
       "    <tr>\n",
       "      <th>31458</th>\n",
       "      <td>1.475327</td>\n",
       "      <td>0.089108</td>\n",
       "      <td>-0.235114</td>\n",
       "      <td>0.245782</td>\n",
       "      <td>-0.459657</td>\n",
       "      <td>2.255438</td>\n",
       "      <td>-1.318222</td>\n",
       "      <td>1.581780</td>\n",
       "      <td>0.391304</td>\n",
       "      <td>-1.415226</td>\n",
       "      <td>-0.008364</td>\n",
       "      <td>0.284981</td>\n",
       "    </tr>\n",
       "    <tr>\n",
       "      <th>31459</th>\n",
       "      <td>-1.225892</td>\n",
       "      <td>0.089108</td>\n",
       "      <td>0.288776</td>\n",
       "      <td>0.245782</td>\n",
       "      <td>-0.459657</td>\n",
       "      <td>0.925921</td>\n",
       "      <td>-1.318222</td>\n",
       "      <td>0.960541</td>\n",
       "      <td>0.391304</td>\n",
       "      <td>0.706601</td>\n",
       "      <td>-1.797814</td>\n",
       "      <td>0.284981</td>\n",
       "    </tr>\n",
       "    <tr>\n",
       "      <th>31460</th>\n",
       "      <td>1.025124</td>\n",
       "      <td>0.780117</td>\n",
       "      <td>1.077275</td>\n",
       "      <td>0.245782</td>\n",
       "      <td>-0.459657</td>\n",
       "      <td>-0.403597</td>\n",
       "      <td>-0.609135</td>\n",
       "      <td>2.203019</td>\n",
       "      <td>0.391304</td>\n",
       "      <td>-1.415226</td>\n",
       "      <td>-0.008364</td>\n",
       "      <td>0.284981</td>\n",
       "    </tr>\n",
       "  </tbody>\n",
       "</table>\n",
       "<p>31461 rows × 12 columns</p>\n",
       "</div>"
      ],
      "text/plain": [
       "            Age  Workclass    Fnlwgt  Education  Education_num  \\\n",
       "0      0.875057   1.471126 -1.114171  -0.348344       1.154324   \n",
       "1     -0.025350   0.089108  0.427192   0.245782      -0.459657   \n",
       "2      1.100158   0.089108  0.607320  -2.427783      -1.266647   \n",
       "3     -0.775689   0.089108  1.487719  -0.348344       1.154324   \n",
       "4     -0.100384   0.089108  1.048962   0.542845       1.557819   \n",
       "...         ...        ...       ...        ...            ...   \n",
       "31456 -0.850723   0.089108  0.812145  -0.942469       0.750829   \n",
       "31457  0.124718   0.089108 -0.207385   0.245782      -0.459657   \n",
       "31458  1.475327   0.089108 -0.235114   0.245782      -0.459657   \n",
       "31459 -1.225892   0.089108  0.288776   0.245782      -0.459657   \n",
       "31460  1.025124   0.780117  1.077275   0.245782      -0.459657   \n",
       "\n",
       "       Marital_status  Occupation  Relationship      Race       Sex  \\\n",
       "0           -0.403597   -0.609135     -0.903178  0.391304  0.706601   \n",
       "1           -1.733114   -0.136411     -0.281938  0.391304  0.706601   \n",
       "2           -0.403597   -0.136411     -0.903178 -1.969806  0.706601   \n",
       "3           -0.403597    0.809038      2.203019 -1.969806 -1.415226   \n",
       "4           -0.403597   -0.609135      2.203019  0.391304 -1.415226   \n",
       "...               ...         ...           ...       ...       ...   \n",
       "31456       -0.403597    1.518124      2.203019  0.391304 -1.415226   \n",
       "31457       -0.403597    0.099951     -0.903178  0.391304  0.706601   \n",
       "31458        2.255438   -1.318222      1.581780  0.391304 -1.415226   \n",
       "31459        0.925921   -1.318222      0.960541  0.391304  0.706601   \n",
       "31460       -0.403597   -0.609135      2.203019  0.391304 -1.415226   \n",
       "\n",
       "       Hours_per_week  Native_country  \n",
       "0           -2.424121        0.284981  \n",
       "1           -0.008364        0.284981  \n",
       "2           -0.008364        0.284981  \n",
       "3           -0.008364       -4.108624  \n",
       "4           -0.008364        0.284981  \n",
       "...               ...             ...  \n",
       "31456       -0.187309        0.284981  \n",
       "31457       -0.008364        0.284981  \n",
       "31458       -0.008364        0.284981  \n",
       "31459       -1.797814        0.284981  \n",
       "31460       -0.008364        0.284981  \n",
       "\n",
       "[31461 rows x 12 columns]"
      ]
     },
     "execution_count": 65,
     "metadata": {},
     "output_type": "execute_result"
    }
   ],
   "source": [
    "from sklearn.preprocessing import StandardScaler\n",
    "scaler=StandardScaler()\n",
    "x=pd.DataFrame(scaler.fit_transform(x),columns=x.columns)\n",
    "x\n",
    "# we are doing this so that everyunit is on the same pace and model is not bies. eg if most of the units are in cm but few are in meter then that will creat biesness.\n",
    "# NOTE- this method should not be used on target variable.that is why we have seperated features and label\n",
    "# the output is in array form that is why we are using pd.DataFrame so that it is converted into data frame "
   ]
  },
  {
   "cell_type": "markdown",
   "id": "a8514e39",
   "metadata": {},
   "source": [
    "### Checking Variance Inflation Factor (VIF)"
   ]
  },
  {
   "cell_type": "code",
   "execution_count": 66,
   "id": "d544f5be",
   "metadata": {},
   "outputs": [
    {
     "data": {
      "text/html": [
       "<div>\n",
       "<style scoped>\n",
       "    .dataframe tbody tr th:only-of-type {\n",
       "        vertical-align: middle;\n",
       "    }\n",
       "\n",
       "    .dataframe tbody tr th {\n",
       "        vertical-align: top;\n",
       "    }\n",
       "\n",
       "    .dataframe thead th {\n",
       "        text-align: right;\n",
       "    }\n",
       "</style>\n",
       "<table border=\"1\" class=\"dataframe\">\n",
       "  <thead>\n",
       "    <tr style=\"text-align: right;\">\n",
       "      <th></th>\n",
       "      <th>VIF Values</th>\n",
       "      <th>Features</th>\n",
       "    </tr>\n",
       "  </thead>\n",
       "  <tbody>\n",
       "    <tr>\n",
       "      <th>0</th>\n",
       "      <td>1.165496</td>\n",
       "      <td>Age</td>\n",
       "    </tr>\n",
       "    <tr>\n",
       "      <th>1</th>\n",
       "      <td>1.087207</td>\n",
       "      <td>Workclass</td>\n",
       "    </tr>\n",
       "    <tr>\n",
       "      <th>2</th>\n",
       "      <td>1.009744</td>\n",
       "      <td>Fnlwgt</td>\n",
       "    </tr>\n",
       "    <tr>\n",
       "      <th>3</th>\n",
       "      <td>1.156448</td>\n",
       "      <td>Education</td>\n",
       "    </tr>\n",
       "    <tr>\n",
       "      <th>4</th>\n",
       "      <td>1.198849</td>\n",
       "      <td>Education_num</td>\n",
       "    </tr>\n",
       "    <tr>\n",
       "      <th>5</th>\n",
       "      <td>1.138324</td>\n",
       "      <td>Marital_status</td>\n",
       "    </tr>\n",
       "    <tr>\n",
       "      <th>6</th>\n",
       "      <td>1.087996</td>\n",
       "      <td>Occupation</td>\n",
       "    </tr>\n",
       "    <tr>\n",
       "      <th>7</th>\n",
       "      <td>1.687958</td>\n",
       "      <td>Relationship</td>\n",
       "    </tr>\n",
       "    <tr>\n",
       "      <th>8</th>\n",
       "      <td>1.039150</td>\n",
       "      <td>Race</td>\n",
       "    </tr>\n",
       "    <tr>\n",
       "      <th>9</th>\n",
       "      <td>1.561302</td>\n",
       "      <td>Sex</td>\n",
       "    </tr>\n",
       "    <tr>\n",
       "      <th>10</th>\n",
       "      <td>1.147190</td>\n",
       "      <td>Hours_per_week</td>\n",
       "    </tr>\n",
       "    <tr>\n",
       "      <th>11</th>\n",
       "      <td>1.027613</td>\n",
       "      <td>Native_country</td>\n",
       "    </tr>\n",
       "  </tbody>\n",
       "</table>\n",
       "</div>"
      ],
      "text/plain": [
       "    VIF Values        Features\n",
       "0     1.165496             Age\n",
       "1     1.087207       Workclass\n",
       "2     1.009744          Fnlwgt\n",
       "3     1.156448       Education\n",
       "4     1.198849   Education_num\n",
       "5     1.138324  Marital_status\n",
       "6     1.087996      Occupation\n",
       "7     1.687958    Relationship\n",
       "8     1.039150            Race\n",
       "9     1.561302             Sex\n",
       "10    1.147190  Hours_per_week\n",
       "11    1.027613  Native_country"
      ]
     },
     "execution_count": 66,
     "metadata": {},
     "output_type": "execute_result"
    }
   ],
   "source": [
    "# finding variance inflation factor in each column i.e, x.shape[1](1/(1/R2))\n",
    "\n",
    "from statsmodels.stats.outliers_influence import variance_inflation_factor\n",
    "vif=pd.DataFrame()\n",
    "vif['VIF Values']=[variance_inflation_factor(x.values,i)\n",
    "                  for i in range(len(x.columns))]\n",
    "vif['Features']=x.columns\n",
    "\n",
    "vif"
   ]
  },
  {
   "cell_type": "code",
   "execution_count": 67,
   "id": "a1f52ca9",
   "metadata": {},
   "outputs": [],
   "source": [
    "# we can see that no feature is having a VIF greater than 10 soe we will not drop any feature"
   ]
  },
  {
   "cell_type": "code",
   "execution_count": 68,
   "id": "abbdebea",
   "metadata": {},
   "outputs": [
    {
     "data": {
      "text/plain": [
       "0.0    23853\n",
       "1.0     7608\n",
       "Name: Income, dtype: int64"
      ]
     },
     "execution_count": 68,
     "metadata": {},
     "output_type": "execute_result"
    }
   ],
   "source": [
    "y.value_counts()"
   ]
  },
  {
   "cell_type": "markdown",
   "id": "82efafc5",
   "metadata": {},
   "source": [
    "### Oversamplling"
   ]
  },
  {
   "cell_type": "code",
   "execution_count": 69,
   "id": "62108e34",
   "metadata": {},
   "outputs": [
    {
     "name": "stdout",
     "output_type": "stream",
     "text": [
      "Requirement already satisfied: imbalanced-learn in c:\\users\\saket\\anaconda3\\lib\\site-packages (0.10.1)\n",
      "Requirement already satisfied: scikit-learn>=1.0.2 in c:\\users\\saket\\anaconda3\\lib\\site-packages (from imbalanced-learn) (1.0.2)\n",
      "Requirement already satisfied: threadpoolctl>=2.0.0 in c:\\users\\saket\\anaconda3\\lib\\site-packages (from imbalanced-learn) (2.2.0)\n",
      "Requirement already satisfied: joblib>=1.1.1 in c:\\users\\saket\\anaconda3\\lib\\site-packages (from imbalanced-learn) (1.2.0)\n",
      "Requirement already satisfied: scipy>=1.3.2 in c:\\users\\saket\\anaconda3\\lib\\site-packages (from imbalanced-learn) (1.7.3)\n",
      "Requirement already satisfied: numpy>=1.17.3 in c:\\users\\saket\\anaconda3\\lib\\site-packages (from imbalanced-learn) (1.21.5)\n",
      "Note: you may need to restart the kernel to use updated packages.\n"
     ]
    }
   ],
   "source": [
    "pip install imbalanced-learn"
   ]
  },
  {
   "cell_type": "code",
   "execution_count": 70,
   "id": "07948d35",
   "metadata": {},
   "outputs": [],
   "source": [
    "#oversampling the data\n",
    "from imblearn.over_sampling import SMOTE\n",
    "SM=SMOTE()\n",
    "x,y=SM.fit_resample(x,y)"
   ]
  },
  {
   "cell_type": "code",
   "execution_count": 71,
   "id": "13254bec",
   "metadata": {},
   "outputs": [
    {
     "data": {
      "text/plain": [
       "0.0    23853\n",
       "1.0    23853\n",
       "Name: Income, dtype: int64"
      ]
     },
     "execution_count": 71,
     "metadata": {},
     "output_type": "execute_result"
    }
   ],
   "source": [
    "#checking the value count of target variable\n",
    "y.value_counts()"
   ]
  },
  {
   "cell_type": "code",
   "execution_count": 72,
   "id": "2f74d91a",
   "metadata": {},
   "outputs": [],
   "source": [
    "# Now the data is balance we can build our model"
   ]
  },
  {
   "cell_type": "markdown",
   "id": "aad2b085",
   "metadata": {},
   "source": [
    "### Modelling"
   ]
  },
  {
   "cell_type": "markdown",
   "id": "dc3bbfb8",
   "metadata": {},
   "source": [
    "### Finding Best Random state "
   ]
  },
  {
   "cell_type": "code",
   "execution_count": 73,
   "id": "0661090f",
   "metadata": {},
   "outputs": [],
   "source": [
    "from sklearn.model_selection import train_test_split\n",
    "from sklearn.ensemble import RandomForestClassifier\n",
    "from sklearn.metrics import accuracy_score"
   ]
  },
  {
   "cell_type": "code",
   "execution_count": 74,
   "id": "b54c44bf",
   "metadata": {},
   "outputs": [
    {
     "name": "stdout",
     "output_type": "stream",
     "text": [
      "Best accuracy is 0.8950953678474114 at random_state 190\n"
     ]
    }
   ],
   "source": [
    "maxAccu=0\n",
    "maxRS=0\n",
    "for i in range(1,200):\n",
    "    x_train,x_test,y_train,y_test=train_test_split(x,y,test_size=0.20,random_state=i)\n",
    "    RFR=RandomForestClassifier()\n",
    "    RFR.fit(x_train,y_train)\n",
    "    pred=RFR.predict(x_test)\n",
    "    acc=accuracy_score(y_test,pred)\n",
    "    if acc>maxAccu:\n",
    "        maxAccu=acc\n",
    "        maxRS=i\n",
    "print(\"Best accuracy is\",maxAccu,\"at random_state\",maxRS)"
   ]
  },
  {
   "cell_type": "markdown",
   "id": "041b2671",
   "metadata": {},
   "source": [
    "### Creating Train test split"
   ]
  },
  {
   "cell_type": "code",
   "execution_count": 78,
   "id": "84248a5f",
   "metadata": {},
   "outputs": [],
   "source": [
    "x_train,x_test,y_train,y_test= train_test_split(x,y, test_size=30, random_state=maxRS)"
   ]
  },
  {
   "cell_type": "markdown",
   "id": "58ab4de2",
   "metadata": {},
   "source": [
    "### Classification Algorithms"
   ]
  },
  {
   "cell_type": "code",
   "execution_count": 79,
   "id": "ff8a677d",
   "metadata": {},
   "outputs": [],
   "source": [
    "from sklearn.ensemble import RandomForestClassifier, ExtraTreesClassifier\n",
    "from sklearn.linear_model import LogisticRegression\n",
    "from sklearn.svm import SVC\n",
    "from sklearn.ensemble import GradientBoostingClassifier, AdaBoostClassifier, BaggingClassifier\n",
    "from sklearn.metrics import classification_report, confusion_matrix, roc_curve, accuracy_score\n",
    "from sklearn.model_selection import cross_val_score"
   ]
  },
  {
   "cell_type": "code",
   "execution_count": 80,
   "id": "6c568ed3",
   "metadata": {},
   "outputs": [
    {
     "name": "stdout",
     "output_type": "stream",
     "text": [
      "0.9333333333333333\n",
      "[[13  2]\n",
      " [ 0 15]]\n",
      "              precision    recall  f1-score   support\n",
      "\n",
      "         0.0       1.00      0.87      0.93        15\n",
      "         1.0       0.88      1.00      0.94        15\n",
      "\n",
      "    accuracy                           0.93        30\n",
      "   macro avg       0.94      0.93      0.93        30\n",
      "weighted avg       0.94      0.93      0.93        30\n",
      "\n"
     ]
    }
   ],
   "source": [
    "#Checking the accuracy of the RamdomForestCLassifier\n",
    "RFC=RandomForestClassifier()\n",
    "RFC.fit(x_train,y_train)\n",
    "predRFC=RFC.predict(x_test)\n",
    "print(accuracy_score(y_test,predRFC))\n",
    "print(confusion_matrix(y_test,predRFC))\n",
    "print(classification_report(y_test,predRFC))"
   ]
  },
  {
   "cell_type": "code",
   "execution_count": 81,
   "id": "1d8f3804",
   "metadata": {},
   "outputs": [
    {
     "name": "stdout",
     "output_type": "stream",
     "text": [
      "0.7\n",
      "[[ 9  6]\n",
      " [ 3 12]]\n",
      "              precision    recall  f1-score   support\n",
      "\n",
      "         0.0       0.75      0.60      0.67        15\n",
      "         1.0       0.67      0.80      0.73        15\n",
      "\n",
      "    accuracy                           0.70        30\n",
      "   macro avg       0.71      0.70      0.70        30\n",
      "weighted avg       0.71      0.70      0.70        30\n",
      "\n"
     ]
    }
   ],
   "source": [
    "#Checking the accuracy of LogisticRegression\n",
    "LR=LogisticRegression()\n",
    "LR.fit(x_train,y_train)\n",
    "predLR=LR.predict(x_test)\n",
    "print(accuracy_score(y_test,predLR))\n",
    "print(confusion_matrix(y_test,predLR))\n",
    "print(classification_report(y_test,predLR))"
   ]
  },
  {
   "cell_type": "code",
   "execution_count": 82,
   "id": "cb94e254",
   "metadata": {},
   "outputs": [
    {
     "name": "stdout",
     "output_type": "stream",
     "text": [
      "0.9333333333333333\n",
      "[[13  2]\n",
      " [ 0 15]]\n",
      "              precision    recall  f1-score   support\n",
      "\n",
      "         0.0       1.00      0.87      0.93        15\n",
      "         1.0       0.88      1.00      0.94        15\n",
      "\n",
      "    accuracy                           0.93        30\n",
      "   macro avg       0.94      0.93      0.93        30\n",
      "weighted avg       0.94      0.93      0.93        30\n",
      "\n"
     ]
    }
   ],
   "source": [
    "#Checking the accuracy of Support Vector MAchine Classifier\n",
    "svc=SVC()\n",
    "svc.fit(x_train,y_train)\n",
    "predsvc=svc.predict(x_test)\n",
    "print(accuracy_score(y_test,predsvc))\n",
    "print(confusion_matrix(y_test,predsvc))\n",
    "print(classification_report(y_test,predsvc))"
   ]
  },
  {
   "cell_type": "code",
   "execution_count": 83,
   "id": "b102d7b3",
   "metadata": {},
   "outputs": [
    {
     "name": "stdout",
     "output_type": "stream",
     "text": [
      "1.0\n",
      "[[15  0]\n",
      " [ 0 15]]\n",
      "              precision    recall  f1-score   support\n",
      "\n",
      "         0.0       1.00      1.00      1.00        15\n",
      "         1.0       1.00      1.00      1.00        15\n",
      "\n",
      "    accuracy                           1.00        30\n",
      "   macro avg       1.00      1.00      1.00        30\n",
      "weighted avg       1.00      1.00      1.00        30\n",
      "\n"
     ]
    }
   ],
   "source": [
    "#Checking the accuracy of AdaBoostClassifier \n",
    "ABC=AdaBoostClassifier()\n",
    "ABC.fit(x_train,y_train)\n",
    "predABC=ABC.predict(x_test)\n",
    "print(accuracy_score(y_test,predABC))\n",
    "print(confusion_matrix(y_test,predABC))\n",
    "print(classification_report(y_test,predABC))"
   ]
  },
  {
   "cell_type": "code",
   "execution_count": 84,
   "id": "80e5f62f",
   "metadata": {},
   "outputs": [
    {
     "name": "stdout",
     "output_type": "stream",
     "text": [
      "0.9\n",
      "[[13  2]\n",
      " [ 1 14]]\n",
      "              precision    recall  f1-score   support\n",
      "\n",
      "         0.0       0.93      0.87      0.90        15\n",
      "         1.0       0.88      0.93      0.90        15\n",
      "\n",
      "    accuracy                           0.90        30\n",
      "   macro avg       0.90      0.90      0.90        30\n",
      "weighted avg       0.90      0.90      0.90        30\n",
      "\n"
     ]
    }
   ],
   "source": [
    "#Checking the accuracy of BaggingClassifier \n",
    "BC=BaggingClassifier()\n",
    "BC.fit(x_train,y_train)\n",
    "predBC=BC.predict(x_test)\n",
    "print(accuracy_score(y_test,predBC))\n",
    "print(confusion_matrix(y_test,predBC))\n",
    "print(classification_report(y_test,predBC))"
   ]
  },
  {
   "cell_type": "code",
   "execution_count": 85,
   "id": "8fe6706d",
   "metadata": {},
   "outputs": [
    {
     "name": "stdout",
     "output_type": "stream",
     "text": [
      "0.9333333333333333\n",
      "[[13  2]\n",
      " [ 0 15]]\n",
      "              precision    recall  f1-score   support\n",
      "\n",
      "         0.0       1.00      0.87      0.93        15\n",
      "         1.0       0.88      1.00      0.94        15\n",
      "\n",
      "    accuracy                           0.93        30\n",
      "   macro avg       0.94      0.93      0.93        30\n",
      "weighted avg       0.94      0.93      0.93        30\n",
      "\n"
     ]
    }
   ],
   "source": [
    "#Checking the accuracy of ExtraTreesClassifier \n",
    "ET=ExtraTreesClassifier()\n",
    "ET.fit(x_train,y_train)\n",
    "predET=ET.predict(x_test)\n",
    "print(accuracy_score(y_test,predET))\n",
    "print(confusion_matrix(y_test,predET))\n",
    "print(classification_report(y_test,predET))"
   ]
  },
  {
   "cell_type": "code",
   "execution_count": 86,
   "id": "e7a598bb",
   "metadata": {},
   "outputs": [
    {
     "name": "stdout",
     "output_type": "stream",
     "text": [
      "0.9666666666666667\n",
      "[[14  1]\n",
      " [ 0 15]]\n",
      "              precision    recall  f1-score   support\n",
      "\n",
      "         0.0       1.00      0.93      0.97        15\n",
      "         1.0       0.94      1.00      0.97        15\n",
      "\n",
      "    accuracy                           0.97        30\n",
      "   macro avg       0.97      0.97      0.97        30\n",
      "weighted avg       0.97      0.97      0.97        30\n",
      "\n"
     ]
    }
   ],
   "source": [
    "#Checking accuracy for Gradient Boosting Classifier\n",
    "\n",
    "GB=GradientBoostingClassifier()\n",
    "GB.fit(x_train,y_train)\n",
    "predGB=GB.predict(x_test)\n",
    "print(accuracy_score(y_test,predGB))\n",
    "print(confusion_matrix(y_test,predGB))\n",
    "print(classification_report(y_test,predGB))"
   ]
  },
  {
   "cell_type": "markdown",
   "id": "72c9fd6a",
   "metadata": {},
   "source": [
    "### Cross Validation Score"
   ]
  },
  {
   "cell_type": "code",
   "execution_count": null,
   "id": "ac0239d4",
   "metadata": {},
   "outputs": [],
   "source": [
    "from sklearn.model_selection import cross_val_score"
   ]
  },
  {
   "cell_type": "code",
   "execution_count": 87,
   "id": "224a7094",
   "metadata": {},
   "outputs": [
    {
     "name": "stdout",
     "output_type": "stream",
     "text": [
      "[0.8113603  0.85578032 0.91698983 0.92327848 0.918562  ]\n",
      "0.8851941859280614\n",
      "Difference between Accuracy score and Cross validation score is: 0.04813914740527192\n"
     ]
    }
   ],
   "source": [
    "#Checking cv score for Random Forest Classifier\n",
    "#By default cv=5\n",
    "score=cross_val_score(RFC,x,y) \n",
    "print(score)  \n",
    "print(score.mean())   \n",
    "print(\"Difference between Accuracy score and Cross validation score is:\",accuracy_score(y_test,predRFC)-score.mean()) "
   ]
  },
  {
   "cell_type": "code",
   "execution_count": 88,
   "id": "18e62a9a",
   "metadata": {},
   "outputs": [
    {
     "name": "stdout",
     "output_type": "stream",
     "text": [
      "[0.74020122 0.75128393 0.74908291 0.7519128  0.74950215]\n",
      "0.7483965999116303\n",
      "Difference between Accuracy score and Cross validation score is: -0.04839659991163037\n"
     ]
    }
   ],
   "source": [
    "#Checking cv score for Logistic Regression\n",
    "\n",
    "score=cross_val_score(LR,x,y)  \n",
    "print(score)\n",
    "print(score.mean())   \n",
    "print(\"Difference between Accuracy score and Cross validation score is:\",accuracy_score(y_test,predLR)-score.mean()) "
   ]
  },
  {
   "cell_type": "code",
   "execution_count": 89,
   "id": "f7d3fc14",
   "metadata": {},
   "outputs": [
    {
     "name": "stdout",
     "output_type": "stream",
     "text": [
      "[0.79983232 0.83324599 0.86856724 0.87349334 0.87087307]\n",
      "0.8492023932015457\n",
      "Difference between Accuracy score and Cross validation score is: 0.117464273465121\n"
     ]
    }
   ],
   "source": [
    "#Checking cv score for Gradient Boosting Classifier\n",
    "\n",
    "score=cross_val_score(GB,x,y)  \n",
    "print(score)\n",
    "print(score.mean())   \n",
    "print(\"Difference between Accuracy score and Cross validation score is:\",accuracy_score(y_test,predGB)-score.mean()) "
   ]
  },
  {
   "cell_type": "code",
   "execution_count": 90,
   "id": "a273247b",
   "metadata": {},
   "outputs": [
    {
     "name": "stdout",
     "output_type": "stream",
     "text": [
      "[0.8116747  0.81469448 0.82580442 0.8246515  0.82758621]\n",
      "0.8208822623477345\n",
      "Difference between Accuracy score and Cross validation score is: 0.11245107098559881\n"
     ]
    }
   ],
   "source": [
    "#Checking cv score for Support Vector Machine Classifier\n",
    "\n",
    "score=cross_val_score(svc,x,y)  \n",
    "print(score)\n",
    "print(score.mean())   \n",
    "print(\"Difference between Accuracy score and Cross validation score is:\",accuracy_score(y_test,predsvc)-score.mean())"
   ]
  },
  {
   "cell_type": "code",
   "execution_count": 91,
   "id": "8966c279",
   "metadata": {},
   "outputs": [
    {
     "name": "stdout",
     "output_type": "stream",
     "text": [
      "[0.79909872 0.82108794 0.84508961 0.85095902 0.85033015]\n",
      "0.833313088801563\n",
      "Difference between Accuracy score and Cross validation score is: 0.16668691119843704\n"
     ]
    }
   ],
   "source": [
    "#Checking cv score for Ada Boosting Classifier\n",
    "\n",
    "score=cross_val_score(ABC,x,y)  \n",
    "print(score)\n",
    "print(score.mean())   \n",
    "print(\"Difference between Accuracy score and Cross validation score is:\",accuracy_score(y_test,predABC)-score.mean()) "
   ]
  },
  {
   "cell_type": "code",
   "execution_count": 92,
   "id": "e2bb17ad",
   "metadata": {},
   "outputs": [
    {
     "name": "stdout",
     "output_type": "stream",
     "text": [
      "[0.77247956 0.8372288  0.90713762 0.90755686 0.90587989]\n",
      "0.8660565458638712\n",
      "Difference between Accuracy score and Cross validation score is: 0.03394345413612887\n"
     ]
    }
   ],
   "source": [
    "#Checking cv score for Bagging Classifier\n",
    "\n",
    "score=cross_val_score(BC,x,y)  \n",
    "print(score)\n",
    "print(score.mean())   \n",
    "print(\"Difference between Accuracy score and Cross validation score is:\",accuracy_score(y_test,predBC)-score.mean()) "
   ]
  },
  {
   "cell_type": "code",
   "execution_count": 93,
   "id": "ec42c9cd",
   "metadata": {},
   "outputs": [
    {
     "name": "stdout",
     "output_type": "stream",
     "text": [
      "[0.84500105 0.87485589 0.91908605 0.92296405 0.91751389]\n",
      "0.8958841840258254\n",
      "Difference between Accuracy score and Cross validation score is: 0.03744914930750798\n"
     ]
    }
   ],
   "source": [
    "#Checking cv score for Extra Trees Classifier\n",
    "\n",
    "score=cross_val_score(ET,x,y)  \n",
    "print(score)\n",
    "print(score.mean())   \n",
    "\n",
    "print(\"Difference between Accuracy score and Cross validation score is:\",accuracy_score(y_test,predET)-score.mean())"
   ]
  },
  {
   "cell_type": "markdown",
   "id": "bc532a1c",
   "metadata": {},
   "source": [
    "### Hyper Parameter Tuning"
   ]
  },
  {
   "cell_type": "code",
   "execution_count": 94,
   "id": "e4cd7c0b",
   "metadata": {},
   "outputs": [
    {
     "name": "stdout",
     "output_type": "stream",
     "text": [
      "Requirement already satisfied: sklearn.model in c:\\users\\saket\\anaconda3\\lib\\site-packages (0.0.6)\n",
      "Requirement already satisfied: pandas in c:\\users\\saket\\anaconda3\\lib\\site-packages (from sklearn.model) (1.4.2)\n",
      "Requirement already satisfied: scikit-learn>=0.22 in c:\\users\\saket\\anaconda3\\lib\\site-packages (from sklearn.model) (1.0.2)\n",
      "Requirement already satisfied: joblib>=0.11 in c:\\users\\saket\\anaconda3\\lib\\site-packages (from scikit-learn>=0.22->sklearn.model) (1.2.0)\n",
      "Requirement already satisfied: scipy>=1.1.0 in c:\\users\\saket\\anaconda3\\lib\\site-packages (from scikit-learn>=0.22->sklearn.model) (1.7.3)\n",
      "Requirement already satisfied: threadpoolctl>=2.0.0 in c:\\users\\saket\\anaconda3\\lib\\site-packages (from scikit-learn>=0.22->sklearn.model) (2.2.0)\n",
      "Requirement already satisfied: numpy>=1.14.6 in c:\\users\\saket\\anaconda3\\lib\\site-packages (from scikit-learn>=0.22->sklearn.model) (1.21.5)\n",
      "Requirement already satisfied: pytz>=2020.1 in c:\\users\\saket\\anaconda3\\lib\\site-packages (from pandas->sklearn.model) (2021.3)\n",
      "Requirement already satisfied: python-dateutil>=2.8.1 in c:\\users\\saket\\anaconda3\\lib\\site-packages (from pandas->sklearn.model) (2.8.2)\n",
      "Requirement already satisfied: six>=1.5 in c:\\users\\saket\\anaconda3\\lib\\site-packages (from python-dateutil>=2.8.1->pandas->sklearn.model) (1.16.0)\n"
     ]
    }
   ],
   "source": [
    "!pip install sklearn.model"
   ]
  },
  {
   "cell_type": "code",
   "execution_count": 96,
   "id": "7e8f9e93",
   "metadata": {},
   "outputs": [],
   "source": [
    "#Bagging Classifier\n",
    "\n",
    "from sklearn.model_selection import GridSearchCV\n",
    "\n",
    "parameters = {\n",
    "    'n_estimators': [50, 100, 200, 300],\n",
    "    'max_samples': [0.5, 0.7, 1.0],\n",
    "    'max_features': [0.5, 0.7, 1.0],\n",
    "    'random_state': [10, 50, 1000]\n",
    "}"
   ]
  },
  {
   "cell_type": "code",
   "execution_count": 97,
   "id": "280efabb",
   "metadata": {},
   "outputs": [],
   "source": [
    "GCV=GridSearchCV(BaggingClassifier(),parameters,cv=5)"
   ]
  },
  {
   "cell_type": "code",
   "execution_count": 98,
   "id": "0a52de2f",
   "metadata": {},
   "outputs": [
    {
     "data": {
      "text/plain": [
       "GridSearchCV(cv=5, estimator=BaggingClassifier(),\n",
       "             param_grid={'max_features': [0.5, 0.7, 1.0],\n",
       "                         'max_samples': [0.5, 0.7, 1.0],\n",
       "                         'n_estimators': [50, 100, 200, 300],\n",
       "                         'random_state': [10, 50, 1000]})"
      ]
     },
     "execution_count": 98,
     "metadata": {},
     "output_type": "execute_result"
    }
   ],
   "source": [
    "GCV.fit(x_train,y_train)"
   ]
  },
  {
   "cell_type": "code",
   "execution_count": 99,
   "id": "6be998b7",
   "metadata": {},
   "outputs": [
    {
     "data": {
      "text/plain": [
       "{'max_features': 0.5,\n",
       " 'max_samples': 1.0,\n",
       " 'n_estimators': 300,\n",
       " 'random_state': 50}"
      ]
     },
     "execution_count": 99,
     "metadata": {},
     "output_type": "execute_result"
    }
   ],
   "source": [
    "GCV.best_params_"
   ]
  },
  {
   "cell_type": "code",
   "execution_count": 100,
   "id": "c9cd321d",
   "metadata": {},
   "outputs": [
    {
     "name": "stdout",
     "output_type": "stream",
     "text": [
      "100.0\n"
     ]
    }
   ],
   "source": [
    " Final_model=BaggingClassifier(max_features= 0.5,max_samples= 1.0,n_estimators=300,random_state=50)\n",
    "Final_model.fit(x_train,y_train)\n",
    "pred=Final_model.predict(x_test)\n",
    "acc=accuracy_score(y_test,pred)\n",
    "print(acc*100)"
   ]
  },
  {
   "cell_type": "markdown",
   "id": "6319bb1d",
   "metadata": {},
   "source": [
    "### Saving the model"
   ]
  },
  {
   "cell_type": "code",
   "execution_count": 101,
   "id": "8b15c23a",
   "metadata": {},
   "outputs": [
    {
     "data": {
      "text/plain": [
       "['Census Income.pkl']"
      ]
     },
     "execution_count": 101,
     "metadata": {},
     "output_type": "execute_result"
    }
   ],
   "source": [
    "#Saving the model using .pkl\n",
    "\n",
    "import joblib\n",
    "joblib.dump(Final_model,\"Census Income.pkl\")"
   ]
  },
  {
   "cell_type": "markdown",
   "id": "95b98a75",
   "metadata": {},
   "source": [
    "### Predicting the saved model"
   ]
  },
  {
   "cell_type": "code",
   "execution_count": 102,
   "id": "1e5019c7",
   "metadata": {},
   "outputs": [
    {
     "data": {
      "text/plain": [
       "array([1., 1., 1., 1., 1., 0., 0., 0., 0., 1., 0., 0., 1., 0., 0., 1., 0.,\n",
       "       1., 0., 0., 1., 1., 1., 1., 1., 0., 0., 1., 0., 0.])"
      ]
     },
     "execution_count": 102,
     "metadata": {},
     "output_type": "execute_result"
    }
   ],
   "source": [
    "#Lets load the saved model and get the predictions\n",
    "\n",
    "model=joblib.load(\"Census Income.pkl\")\n",
    "\n",
    "\n",
    "#Prediction\n",
    "prediction=model.predict(x_test)\n",
    "prediction"
   ]
  },
  {
   "cell_type": "markdown",
   "id": "502e15b9",
   "metadata": {},
   "source": [
    "### Plot the AUC ROC curve"
   ]
  },
  {
   "cell_type": "code",
   "execution_count": 103,
   "id": "3dcb1dd1",
   "metadata": {},
   "outputs": [],
   "source": [
    "from sklearn.metrics import roc_auc_score\n",
    "from sklearn.metrics import roc_curve\n",
    "from sklearn.metrics import auc"
   ]
  },
  {
   "cell_type": "code",
   "execution_count": 104,
   "id": "86a27f8c",
   "metadata": {},
   "outputs": [
    {
     "data": {
      "image/png": "[encoded data removed]",
      "text/plain": [
       "<Figure size 432x288 with 1 Axes>"
      ]
     },
     "metadata": {
      "needs_background": "light"
     },
     "output_type": "display_data"
    },
    {
     "name": "stdout",
     "output_type": "stream",
     "text": [
      "AUC score: \n",
      " 1.0\n"
     ]
    }
   ],
   "source": [
    "y_pred_prob=Final_model.predict_proba(x_test)[:,1]\n",
    "fpr,tpr,thresholds=roc_curve(y_test,y_pred_prob)\n",
    "roc_auc=auc(fpr,tpr)\n",
    "\n",
    "plt.plot([0,1],[0,1],'k--')\n",
    "plt.plot(fpr,tpr,label=\"RandomForestClassifier(area=%0.2f)\"% roc_auc)\n",
    "plt.xlabel(\"False Positive Rate\")\n",
    "plt.ylabel(\"True Positive Rate\")\n",
    "plt.show()\n",
    "auc_score=roc_auc_score(y_test,Final_model.predict(x_test))\n",
    "print(\"AUC score:\",\"\\n\",auc_score)"
   ]
  },
  {
   "cell_type": "code",
   "execution_count": null,
   "id": "67876af5",
   "metadata": {},
   "outputs": [],
   "source": []
  }
 ],
 "metadata": {
  "kernelspec": {
   "display_name": "Python 3 (ipykernel)",
   "language": "python",
   "name": "python3"
  },
  "language_info": {
   "codemirror_mode": {
    "name": "ipython",
    "version": 3
   },
   "file_extension": ".py",
   "mimetype": "text/x-python",
   "name": "python",
   "nbconvert_exporter": "python",
   "pygments_lexer": "ipython3",
   "version": "3.9.12"
  }
 },
 "nbformat": 4,
 "nbformat_minor": 5
}
